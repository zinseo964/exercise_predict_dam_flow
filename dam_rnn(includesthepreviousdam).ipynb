{
 "cells": [
  {
   "cell_type": "code",
   "execution_count": 1,
   "metadata": {
    "colab": {
     "base_uri": "https://localhost:8080/"
    },
    "executionInfo": {
     "elapsed": 34368,
     "status": "ok",
     "timestamp": 1713334196050,
     "user": {
      "displayName": "­이진서 / 직원 / 그린바이오과학기술연구원",
      "userId": "11108064377578484520"
     },
     "user_tz": -540
    },
    "id": "GQo1Ioqzm9dq",
    "outputId": "90a20769-eb67-41fa-d941-5e978baeb8e0"
   },
   "outputs": [
    {
     "name": "stdout",
     "output_type": "stream",
     "text": [
      "WARNING:tensorflow:From C:\\Users\\wlstj\\AppData\\Local\\Programs\\Python\\Python311\\Lib\\site-packages\\keras\\src\\losses.py:2976: The name tf.losses.sparse_softmax_cross_entropy is deprecated. Please use tf.compat.v1.losses.sparse_softmax_cross_entropy instead.\n",
      "\n"
     ]
    }
   ],
   "source": [
    "\"\"\" RNN dam flow prediction: stacked RNN \"\"\"\n",
    "\n",
    "# import libraries\n",
    "import numpy as np\n",
    "import pandas as pd\n",
    "from tensorflow.keras.models import Sequential\n",
    "from tensorflow.keras.layers import LSTM, Dense, Flatten\n",
    "from tensorflow.keras.optimizers import Adam\n",
    "from sklearn.preprocessing import StandardScaler, MinMaxScaler\n",
    "import matplotlib.pyplot as plt\n"
   ]
  },
  {
   "cell_type": "code",
   "execution_count": 2,
   "metadata": {
    "id": "NHfpFZhV1KrZ"
   },
   "outputs": [],
   "source": [
    "rain_data = pd.read_csv('rain_day.csv', encoding='utf-8')\n",
    "dam_data = pd.read_csv('dam_edit.csv', encoding='utf-8')"
   ]
  },
  {
   "cell_type": "code",
   "execution_count": 3,
   "metadata": {
    "id": "ZOSc9aW_NTX_"
   },
   "outputs": [],
   "source": [
    "data = []"
   ]
  },
  {
   "cell_type": "code",
   "execution_count": 4,
   "metadata": {
    "id": "pqbh4uMo27f3"
   },
   "outputs": [],
   "source": [
    "dam_data = dam_data.drop('Unnamed: 0', axis = 1)"
   ]
  },
  {
   "cell_type": "code",
   "execution_count": null,
   "metadata": {
    "id": "dxpKYS2Fi-uw"
   },
   "outputs": [],
   "source": []
  },
  {
   "cell_type": "code",
   "execution_count": 5,
   "metadata": {
    "id": "cdLeO4e24q26"
   },
   "outputs": [],
   "source": [
    "data = pd.merge( dam_data,rain_data, on='date', how='inner')"
   ]
  },
  {
   "cell_type": "code",
   "execution_count": 6,
   "metadata": {
    "id": "_dHIpEd22O2E"
   },
   "outputs": [],
   "source": [
    "data = data.fillna(0)"
   ]
  },
  {
   "cell_type": "code",
   "execution_count": 7,
   "metadata": {
    "colab": {
     "base_uri": "https://localhost:8080/"
    },
    "executionInfo": {
     "elapsed": 642,
     "status": "ok",
     "timestamp": 1713334198129,
     "user": {
      "displayName": "­이진서 / 직원 / 그린바이오과학기술연구원",
      "userId": "11108064377578484520"
     },
     "user_tz": -540
    },
    "id": "8LCkdpxW4q0W",
    "outputId": "8c3c27f3-061e-48f3-c37a-3ae2d5ffa09b"
   },
   "outputs": [
    {
     "name": "stdout",
     "output_type": "stream",
     "text": [
      "             date  dam_t-1    90  100  101  211  212\n",
      "0      1974-01-01    0.000   0.0  0.0  0.0  0.0  0.0\n",
      "1      1974-01-02   10.000   0.0  0.0  0.0  0.0  0.0\n",
      "2      1974-01-03    9.000   0.0  0.0  0.0  0.0  0.0\n",
      "3      1974-01-04    4.800   0.0  0.0  0.0  0.0  0.0\n",
      "4      1974-01-05    6.100   0.0  0.0  0.0  0.0  0.0\n",
      "...           ...      ...   ...  ...  ...  ...  ...\n",
      "18257  2023-12-27   30.518   0.0  0.0  0.0  0.0  0.0\n",
      "18258  2023-12-28   25.873   0.0  0.0  0.0  0.0  0.0\n",
      "18259  2023-12-29   21.186   0.0  0.0  0.0  0.0  0.0\n",
      "18260  2023-12-30   20.887   0.7  2.3  9.9  6.8  8.5\n",
      "18261  2023-12-31   29.183  26.8  6.0  5.3  3.1  4.9\n",
      "\n",
      "[18262 rows x 7 columns]\n"
     ]
    }
   ],
   "source": [
    "print(data)"
   ]
  },
  {
   "cell_type": "code",
   "execution_count": null,
   "metadata": {
    "id": "PgHrzxos-42s"
   },
   "outputs": [],
   "source": []
  },
  {
   "cell_type": "code",
   "execution_count": 8,
   "metadata": {
    "colab": {
     "base_uri": "https://localhost:8080/"
    },
    "executionInfo": {
     "elapsed": 13,
     "status": "ok",
     "timestamp": 1713334198130,
     "user": {
      "displayName": "­이진서 / 직원 / 그린바이오과학기술연구원",
      "userId": "11108064377578484520"
     },
     "user_tz": -540
    },
    "id": "KZQFqaNs1Ko9",
    "outputId": "61252eba-3f8b-42e3-f3f3-ec695c1fba11"
   },
   "outputs": [
    {
     "name": "stdout",
     "output_type": "stream",
     "text": [
      "             date  dam_t-1\n",
      "0      1974-01-01    0.000\n",
      "1      1974-01-02   10.000\n",
      "2      1974-01-03    9.000\n",
      "3      1974-01-04    4.800\n",
      "4      1974-01-05    6.100\n",
      "...           ...      ...\n",
      "18257  2023-12-27   30.518\n",
      "18258  2023-12-28   25.873\n",
      "18259  2023-12-29   21.186\n",
      "18260  2023-12-30   20.887\n",
      "18261  2023-12-31   29.183\n",
      "\n",
      "[18262 rows x 2 columns]\n"
     ]
    }
   ],
   "source": [
    "print(dam_data)"
   ]
  },
  {
   "cell_type": "code",
   "execution_count": 9,
   "metadata": {
    "id": "gAMWMiiZ_I3c"
   },
   "outputs": [],
   "source": [
    "dam = dam_data.drop('date', axis= 1)"
   ]
  },
  {
   "cell_type": "code",
   "execution_count": 10,
   "metadata": {
    "colab": {
     "base_uri": "https://localhost:8080/"
    },
    "executionInfo": {
     "elapsed": 12,
     "status": "ok",
     "timestamp": 1713334198130,
     "user": {
      "displayName": "­이진서 / 직원 / 그린바이오과학기술연구원",
      "userId": "11108064377578484520"
     },
     "user_tz": -540
    },
    "id": "wd50aIWU1Kml",
    "outputId": "a10fcee0-6c46-4910-939f-4fc61d7ccf43"
   },
   "outputs": [
    {
     "name": "stdout",
     "output_type": "stream",
     "text": [
      "             date    90  100  101  211  212\n",
      "0      1974-01-01   0.0  0.0  0.0  0.0  0.0\n",
      "1      1974-01-02   0.0  0.0  0.0  0.0  0.0\n",
      "2      1974-01-03   0.0  0.0  0.0  0.0  0.0\n",
      "3      1974-01-04   0.0  0.0  0.0  0.0  0.0\n",
      "4      1974-01-05   0.0  0.0  0.0  0.0  0.0\n",
      "...           ...   ...  ...  ...  ...  ...\n",
      "18257  2023-12-27   0.0  0.0  0.0  0.0  0.0\n",
      "18258  2023-12-28   0.0  0.0  0.0  0.0  0.0\n",
      "18259  2023-12-29   0.0  0.0  0.0  0.0  0.0\n",
      "18260  2023-12-30   0.7  2.3  9.9  6.8  8.5\n",
      "18261  2023-12-31  26.8  6.0  5.3  3.1  4.9\n",
      "\n",
      "[18262 rows x 6 columns]\n"
     ]
    }
   ],
   "source": [
    "print(rain_data)"
   ]
  },
  {
   "cell_type": "code",
   "execution_count": null,
   "metadata": {
    "id": "bXv8dcE91KhZ"
   },
   "outputs": [],
   "source": []
  },
  {
   "cell_type": "code",
   "execution_count": null,
   "metadata": {
    "id": "36Yl3EaL1KfB"
   },
   "outputs": [],
   "source": []
  },
  {
   "cell_type": "code",
   "execution_count": 11,
   "metadata": {
    "id": "p39VaDNvnlIh"
   },
   "outputs": [],
   "source": [
    "# save original 'Open' prices for later\n",
    "original_dam = data['dam_t-1'].values"
   ]
  },
  {
   "cell_type": "code",
   "execution_count": 12,
   "metadata": {
    "id": "bT8kYSbbnl3d"
   },
   "outputs": [],
   "source": [
    "# separate dates for future plotting\n",
    "dates = pd.to_datetime(data['date'])"
   ]
  },
  {
   "cell_type": "code",
   "execution_count": 13,
   "metadata": {
    "colab": {
     "base_uri": "https://localhost:8080/"
    },
    "executionInfo": {
     "elapsed": 10,
     "status": "ok",
     "timestamp": 1713334198130,
     "user": {
      "displayName": "­이진서 / 직원 / 그린바이오과학기술연구원",
      "userId": "11108064377578484520"
     },
     "user_tz": -540
    },
    "id": "Y6ekq36NsaOh",
    "outputId": "69df5cc3-e9e2-4cfe-c2ef-ee095552cd29"
   },
   "outputs": [
    {
     "name": "stdout",
     "output_type": "stream",
     "text": [
      "             date  dam_t-1    90  100  101  211  212\n",
      "0      1974-01-01    0.000   0.0  0.0  0.0  0.0  0.0\n",
      "1      1974-01-02   10.000   0.0  0.0  0.0  0.0  0.0\n",
      "2      1974-01-03    9.000   0.0  0.0  0.0  0.0  0.0\n",
      "3      1974-01-04    4.800   0.0  0.0  0.0  0.0  0.0\n",
      "4      1974-01-05    6.100   0.0  0.0  0.0  0.0  0.0\n",
      "...           ...      ...   ...  ...  ...  ...  ...\n",
      "18257  2023-12-27   30.518   0.0  0.0  0.0  0.0  0.0\n",
      "18258  2023-12-28   25.873   0.0  0.0  0.0  0.0  0.0\n",
      "18259  2023-12-29   21.186   0.0  0.0  0.0  0.0  0.0\n",
      "18260  2023-12-30   20.887   0.7  2.3  9.9  6.8  8.5\n",
      "18261  2023-12-31   29.183  26.8  6.0  5.3  3.1  4.9\n",
      "\n",
      "[18262 rows x 7 columns]\n"
     ]
    }
   ],
   "source": [
    "print(data)"
   ]
  },
  {
   "cell_type": "code",
   "execution_count": 14,
   "metadata": {
    "id": "ogA_xIwDnnZH"
   },
   "outputs": [],
   "source": [
    "# variables for training\n",
    "cols = list(data)[1:7]"
   ]
  },
  {
   "cell_type": "code",
   "execution_count": 15,
   "metadata": {
    "colab": {
     "base_uri": "https://localhost:8080/"
    },
    "executionInfo": {
     "elapsed": 10,
     "status": "ok",
     "timestamp": 1713334198131,
     "user": {
      "displayName": "­이진서 / 직원 / 그린바이오과학기술연구원",
      "userId": "11108064377578484520"
     },
     "user_tz": -540
    },
    "id": "UAxYrWfg_32w",
    "outputId": "0542afe5-626a-40fa-dc9e-218e42615a42"
   },
   "outputs": [
    {
     "name": "stdout",
     "output_type": "stream",
     "text": [
      "['dam_t-1', '90', '100', '101', '211', '212']\n"
     ]
    }
   ],
   "source": [
    "print(cols)"
   ]
  },
  {
   "cell_type": "code",
   "execution_count": 16,
   "metadata": {
    "id": "8Din6kzRnoen"
   },
   "outputs": [],
   "source": [
    "# new dataframe with only training data - 5 columns\n",
    "data = data[cols].astype(float)"
   ]
  },
  {
   "cell_type": "code",
   "execution_count": 17,
   "metadata": {
    "executionInfo": {
     "elapsed": 296,
     "status": "ok",
     "timestamp": 1713339682457,
     "user": {
      "displayName": "­이진서 / 직원 / 그린바이오과학기술연구원",
      "userId": "11108064377578484520"
     },
     "user_tz": -540
    },
    "id": "HRrDFZ_Gnpko"
   },
   "outputs": [],
   "source": [
    "# normalize the dataset\n",
    "scaler = MinMaxScaler(feature_range = (0,1))\n",
    "dam_data_scaled = scaler.fit_transform(data)\n"
   ]
  },
  {
   "cell_type": "code",
   "execution_count": 18,
   "metadata": {
    "executionInfo": {
     "elapsed": 2,
     "status": "ok",
     "timestamp": 1713339727108,
     "user": {
      "displayName": "­이진서 / 직원 / 그린바이오과학기술연구원",
      "userId": "11108064377578484520"
     },
     "user_tz": -540
    },
    "id": "1wutiCpgAN88"
   },
   "outputs": [],
   "source": [
    "scaler_dam = MinMaxScaler(feature_range=(0,1))\n",
    "dam_scaled = scaler_dam.fit_transform(dam)"
   ]
  },
  {
   "cell_type": "code",
   "execution_count": 19,
   "metadata": {
    "colab": {
     "base_uri": "https://localhost:8080/"
    },
    "executionInfo": {
     "elapsed": 8,
     "status": "ok",
     "timestamp": 1713334198131,
     "user": {
      "displayName": "­이진서 / 직원 / 그린바이오과학기술연구원",
      "userId": "11108064377578484520"
     },
     "user_tz": -540
    },
    "id": "oszHWO0UEAiO",
    "outputId": "f6bc66d5-2e7f-4345-e648-c02c24cd33dd"
   },
   "outputs": [
    {
     "name": "stdout",
     "output_type": "stream",
     "text": [
      "[[0.         0.         0.         0.         0.         0.        ]\n",
      " [0.00135033 0.         0.         0.         0.         0.        ]\n",
      " [0.0012153  0.         0.         0.         0.         0.        ]\n",
      " ...\n",
      " [0.00286081 0.         0.         0.         0.         0.        ]\n",
      " [0.00282043 0.00189856 0.00322807 0.03209076 0.02465555 0.0307971 ]\n",
      " [0.00394067 0.07268782 0.00842105 0.0171799  0.01124003 0.01775362]]\n"
     ]
    }
   ],
   "source": [
    "print(dam_data_scaled)"
   ]
  },
  {
   "cell_type": "code",
   "execution_count": 20,
   "metadata": {
    "colab": {
     "base_uri": "https://localhost:8080/"
    },
    "executionInfo": {
     "elapsed": 7,
     "status": "ok",
     "timestamp": 1713334198131,
     "user": {
      "displayName": "­이진서 / 직원 / 그린바이오과학기술연구원",
      "userId": "11108064377578484520"
     },
     "user_tz": -540
    },
    "id": "1xSw2podnqir",
    "outputId": "8d219222-332f-41af-95ed-6460220352ba"
   },
   "outputs": [
    {
     "name": "stdout",
     "output_type": "stream",
     "text": [
      "16435   2018-12-31\n",
      "16436   2019-01-01\n",
      "16437   2019-01-02\n",
      "16438   2019-01-03\n",
      "16439   2019-01-04\n",
      "Name: date, dtype: datetime64[ns]\n"
     ]
    }
   ],
   "source": [
    "# split to train data and test data\n",
    "n_train = int(0.9*dam_data_scaled.shape[0])\n",
    "train_data_scaled = dam_data_scaled[0: n_train]\n",
    "train_dates = dates[0: n_train]\n",
    "\n",
    "test_data_scaled = dam_data_scaled[n_train:]\n",
    "test_dates = dates[n_train:]\n",
    "print(test_dates.head(5))"
   ]
  },
  {
   "cell_type": "code",
   "execution_count": 21,
   "metadata": {
    "colab": {
     "base_uri": "https://localhost:8080/"
    },
    "executionInfo": {
     "elapsed": 323,
     "status": "ok",
     "timestamp": 1713334198448,
     "user": {
      "displayName": "­이진서 / 직원 / 그린바이오과학기술연구원",
      "userId": "11108064377578484520"
     },
     "user_tz": -540
    },
    "id": "ZUFo-ljhIzIm",
    "outputId": "a66da9fd-8e0e-4d80-ab6e-031c79e1bd85"
   },
   "outputs": [
    {
     "name": "stdout",
     "output_type": "stream",
     "text": [
      "[[0.         0.         0.         0.         0.         0.        ]\n",
      " [0.00135033 0.         0.         0.         0.         0.        ]\n",
      " [0.0012153  0.         0.         0.         0.         0.        ]\n",
      " ...\n",
      " [0.00074538 0.         0.         0.         0.         0.        ]\n",
      " [0.00076483 0.         0.         0.         0.         0.        ]\n",
      " [0.00077576 0.         0.         0.         0.         0.        ]]\n"
     ]
    }
   ],
   "source": [
    "print(train_data_scaled)"
   ]
  },
  {
   "cell_type": "code",
   "execution_count": 22,
   "metadata": {
    "colab": {
     "base_uri": "https://localhost:8080/"
    },
    "executionInfo": {
     "elapsed": 298,
     "status": "ok",
     "timestamp": 1713339761331,
     "user": {
      "displayName": "­이진서 / 직원 / 그린바이오과학기술연구원",
      "userId": "11108064377578484520"
     },
     "user_tz": -540
    },
    "id": "iCOaHw2Cnsnz",
    "outputId": "d5a2c42b-4e77-47f6-a73e-1ad8774a9bf2"
   },
   "outputs": [
    {
     "name": "stdout",
     "output_type": "stream",
     "text": [
      "[[0.         0.         0.         0.         0.         0.        ]\n",
      " [0.00135033 0.         0.         0.         0.         0.        ]\n",
      " [0.0012153  0.         0.         0.         0.         0.        ]\n",
      " [0.00064816 0.         0.         0.         0.         0.        ]\n",
      " [0.0008237  0.         0.         0.         0.         0.        ]\n",
      " [0.00078319 0.         0.         0.         0.         0.        ]\n",
      " [0.00117479 0.         0.         0.         0.         0.        ]\n",
      " [0.00126931 0.         0.00042105 0.         0.         0.        ]\n",
      " [0.00091822 0.00054245 0.00084211 0.         0.         0.        ]\n",
      " [0.0008372  0.         0.0005614  0.         0.         0.        ]\n",
      " [0.00047262 0.00027122 0.00084211 0.         0.         0.        ]\n",
      " [0.00068867 0.         0.         0.         0.         0.        ]\n",
      " [0.00060765 0.         0.         0.         0.         0.        ]\n",
      " [0.00087771 0.         0.         0.         0.         0.        ]\n",
      " [0.00086421 0.         0.         0.         0.         0.        ]\n",
      " [0.00120179 0.         0.         0.         0.         0.        ]\n",
      " [0.00075618 0.         0.         0.         0.         0.        ]\n",
      " [0.00071567 0.         0.         0.         0.         0.        ]\n",
      " [0.00071567 0.         0.00014035 0.         0.         0.        ]\n",
      " [0.00066166 0.         0.0002807  0.         0.         0.        ]\n",
      " [0.00059414 0.04963385 0.01642105 0.02593193 0.02465555 0.05833333]\n",
      " [0.00098574 0.         0.0002807  0.         0.         0.        ]\n",
      " [0.00105326 0.         0.         0.         0.         0.        ]\n",
      " [0.00140434 0.         0.         0.         0.         0.        ]]\n",
      "[0.00095873]\n"
     ]
    }
   ],
   "source": [
    "# data reformatting for LSTM\n",
    "pred_days = 1  # prediction period\n",
    "seq_len = 24   # sequence length = past days for future prediction.\n",
    "input_dim = 6  # input_dimension = ['dam', '90', '100', '101', '211', '212']\n",
    "\n",
    "trainX = []\n",
    "trainY = []\n",
    "testX = []\n",
    "testY = []\n",
    "\n",
    "for i in range(seq_len, n_train-pred_days +1):\n",
    "    trainX.append(train_data_scaled[i - seq_len:i, 0:train_data_scaled.shape[1]])\n",
    "    trainY.append(train_data_scaled[i + pred_days - 1:i + pred_days, 0])\n",
    "\n",
    "for i in range(seq_len, len(test_data_scaled)-pred_days +1):\n",
    "    testX.append(test_data_scaled[i - seq_len:i, 0:test_data_scaled.shape[1]])\n",
    "    testY.append(test_data_scaled[i + pred_days - 1:i + pred_days, 0])\n",
    "\n",
    "print(trainX[0])\n",
    "print(trainY[0])\n",
    "\n",
    "trainX, trainY = np.array(trainX), np.array(trainY)\n",
    "testX, testY = np.array(testX), np.array(testY)"
   ]
  },
  {
   "cell_type": "code",
   "execution_count": 23,
   "metadata": {
    "colab": {
     "base_uri": "https://localhost:8080/"
    },
    "executionInfo": {
     "elapsed": 12,
     "status": "ok",
     "timestamp": 1713334216062,
     "user": {
      "displayName": "­이진서 / 직원 / 그린바이오과학기술연구원",
      "userId": "11108064377578484520"
     },
     "user_tz": -540
    },
    "id": "w6xCKBOanvvz",
    "outputId": "f04d3ccb-a6dc-40a8-edfc-ab34eb22b525"
   },
   "outputs": [
    {
     "name": "stdout",
     "output_type": "stream",
     "text": [
      "(16411, 24, 6) (16411, 1)\n",
      "(1803, 24, 6) (1803, 1)\n"
     ]
    }
   ],
   "source": [
    "print(trainX.shape, trainY.shape)\n",
    "print(testX.shape, testY.shape)"
   ]
  },
  {
   "cell_type": "code",
   "execution_count": 24,
   "metadata": {
    "colab": {
     "base_uri": "https://localhost:8080/"
    },
    "executionInfo": {
     "elapsed": 11,
     "status": "ok",
     "timestamp": 1713334216062,
     "user": {
      "displayName": "­이진서 / 직원 / 그린바이오과학기술연구원",
      "userId": "11108064377578484520"
     },
     "user_tz": -540
    },
    "id": "ABV11yxg_fPk",
    "outputId": "2e65db30-a048-4ed0-9cfe-8f1725b26d92"
   },
   "outputs": [
    {
     "name": "stdout",
     "output_type": "stream",
     "text": [
      "       dam_t-1    90  100  101  211  212\n",
      "0        0.000   0.0  0.0  0.0  0.0  0.0\n",
      "1       10.000   0.0  0.0  0.0  0.0  0.0\n",
      "2        9.000   0.0  0.0  0.0  0.0  0.0\n",
      "3        4.800   0.0  0.0  0.0  0.0  0.0\n",
      "4        6.100   0.0  0.0  0.0  0.0  0.0\n",
      "...        ...   ...  ...  ...  ...  ...\n",
      "18257   30.518   0.0  0.0  0.0  0.0  0.0\n",
      "18258   25.873   0.0  0.0  0.0  0.0  0.0\n",
      "18259   21.186   0.0  0.0  0.0  0.0  0.0\n",
      "18260   20.887   0.7  2.3  9.9  6.8  8.5\n",
      "18261   29.183  26.8  6.0  5.3  3.1  4.9\n",
      "\n",
      "[18262 rows x 6 columns]\n"
     ]
    }
   ],
   "source": [
    "print(data)"
   ]
  },
  {
   "cell_type": "code",
   "execution_count": 25,
   "metadata": {
    "colab": {
     "base_uri": "https://localhost:8080/"
    },
    "executionInfo": {
     "elapsed": 10,
     "status": "ok",
     "timestamp": 1713334216062,
     "user": {
      "displayName": "­이진서 / 직원 / 그린바이오과학기술연구원",
      "userId": "11108064377578484520"
     },
     "user_tz": -540
    },
    "id": "r0DxPNxbnwJ3",
    "outputId": "7ffdc48b-9fbb-4873-e4ef-0fb8370be2eb"
   },
   "outputs": [
    {
     "name": "stdout",
     "output_type": "stream",
     "text": [
      "WARNING:tensorflow:From C:\\Users\\wlstj\\AppData\\Local\\Programs\\Python\\Python311\\Lib\\site-packages\\keras\\src\\backend.py:873: The name tf.get_default_graph is deprecated. Please use tf.compat.v1.get_default_graph instead.\n",
      "\n",
      "Model: \"sequential\"\n",
      "_________________________________________________________________\n",
      " Layer (type)                Output Shape              Param #   \n",
      "=================================================================\n",
      " flatten (Flatten)           (None, 144)               0         \n",
      "                                                                 \n",
      " dense (Dense)               (None, 64)                9280      \n",
      "                                                                 \n",
      " dense_1 (Dense)             (None, 32)                2080      \n",
      "                                                                 \n",
      " dense_2 (Dense)             (None, 1)                 33        \n",
      "                                                                 \n",
      "=================================================================\n",
      "Total params: 11393 (44.50 KB)\n",
      "Trainable params: 11393 (44.50 KB)\n",
      "Non-trainable params: 0 (0.00 Byte)\n",
      "_________________________________________________________________\n"
     ]
    }
   ],
   "source": [
    "# RNN model\n",
    "model = Sequential()\n",
    "model.add(Flatten(input_shape=(trainX.shape[1], trainX.shape[2])))\n",
    "model.add(Dense(64, activation ='relu'))\n",
    "model.add(Dense(32))\n",
    "model.add(Dense(trainY.shape[1]))\n",
    "\n",
    "model.summary()"
   ]
  },
  {
   "cell_type": "code",
   "execution_count": 26,
   "metadata": {
    "id": "XBbmyaHmnxML"
   },
   "outputs": [],
   "source": [
    "# specify your learning rate\n",
    "learning_rate = 0.01\n",
    "# create an Adam optimizer with the specified learning rate\n",
    "optimizer = Adam(learning_rate=learning_rate)\n",
    "# compile your model using the custom optimizer\n",
    "model.compile(optimizer=optimizer, loss='mse')"
   ]
  },
  {
   "cell_type": "code",
   "execution_count": 27,
   "metadata": {
    "colab": {
     "base_uri": "https://localhost:8080/",
     "height": 1000
    },
    "executionInfo": {
     "elapsed": 42162,
     "status": "ok",
     "timestamp": 1713339825706,
     "user": {
      "displayName": "­이진서 / 직원 / 그린바이오과학기술연구원",
      "userId": "11108064377578484520"
     },
     "user_tz": -540
    },
    "id": "ftq3t9DnnyIw",
    "outputId": "db756ed5-134d-4392-fb42-0ffde4a3bc7c"
   },
   "outputs": [
    {
     "name": "stdout",
     "output_type": "stream",
     "text": [
      "No weights found, training model from scratch\n",
      "Epoch 1/30\n",
      "WARNING:tensorflow:From C:\\Users\\wlstj\\AppData\\Local\\Programs\\Python\\Python311\\Lib\\site-packages\\keras\\src\\utils\\tf_utils.py:492: The name tf.ragged.RaggedTensorValue is deprecated. Please use tf.compat.v1.ragged.RaggedTensorValue instead.\n",
      "\n",
      "462/462 [==============================] - 1s 1ms/step - loss: 7.2413e-04 - val_loss: 1.6573e-04\n",
      "Epoch 2/30\n",
      "462/462 [==============================] - 1s 1ms/step - loss: 3.1550e-04 - val_loss: 1.5538e-04\n",
      "Epoch 3/30\n",
      "462/462 [==============================] - 1s 1ms/step - loss: 3.0225e-04 - val_loss: 1.8932e-04\n",
      "Epoch 4/30\n",
      "462/462 [==============================] - 1s 1ms/step - loss: 1.9250e-04 - val_loss: 1.0323e-04\n",
      "Epoch 5/30\n",
      "462/462 [==============================] - 1s 1ms/step - loss: 1.8471e-04 - val_loss: 1.1344e-04\n",
      "Epoch 6/30\n",
      "462/462 [==============================] - 1s 1ms/step - loss: 2.2321e-04 - val_loss: 1.4569e-04\n",
      "Epoch 7/30\n",
      "462/462 [==============================] - 1s 1ms/step - loss: 1.9998e-04 - val_loss: 1.6283e-04\n",
      "Epoch 8/30\n",
      "462/462 [==============================] - 1s 1ms/step - loss: 2.0830e-04 - val_loss: 2.7273e-04\n",
      "Epoch 9/30\n",
      "462/462 [==============================] - 1s 1ms/step - loss: 6.0655e-04 - val_loss: 7.0086e-04\n",
      "Epoch 10/30\n",
      "462/462 [==============================] - 1s 1ms/step - loss: 0.0012 - val_loss: 7.7915e-04\n",
      "Epoch 11/30\n",
      "462/462 [==============================] - 1s 1ms/step - loss: 3.6849e-04 - val_loss: 2.4434e-04\n",
      "Epoch 12/30\n",
      "462/462 [==============================] - 1s 1ms/step - loss: 2.5216e-04 - val_loss: 1.7795e-04\n",
      "Epoch 13/30\n",
      "462/462 [==============================] - 0s 1ms/step - loss: 2.2283e-04 - val_loss: 1.6201e-04\n",
      "Epoch 14/30\n",
      "462/462 [==============================] - 1s 1ms/step - loss: 2.0169e-04 - val_loss: 1.4268e-04\n",
      "Epoch 15/30\n",
      "462/462 [==============================] - 0s 1ms/step - loss: 2.8189e-04 - val_loss: 1.9972e-04\n",
      "Epoch 16/30\n",
      "462/462 [==============================] - 1s 1ms/step - loss: 2.2295e-04 - val_loss: 1.9794e-04\n",
      "Epoch 17/30\n",
      "462/462 [==============================] - 1s 1ms/step - loss: 1.9638e-04 - val_loss: 1.5241e-04\n",
      "Epoch 18/30\n",
      "462/462 [==============================] - 1s 1ms/step - loss: 2.0898e-04 - val_loss: 0.0011\n",
      "Epoch 19/30\n",
      "462/462 [==============================] - 0s 1ms/step - loss: 2.1783e-04 - val_loss: 1.8524e-04\n",
      "Epoch 20/30\n",
      "462/462 [==============================] - 1s 1ms/step - loss: 1.7549e-04 - val_loss: 1.4719e-04\n",
      "Epoch 21/30\n",
      "462/462 [==============================] - 0s 1ms/step - loss: 1.9076e-04 - val_loss: 1.7408e-04\n",
      "Epoch 22/30\n",
      "462/462 [==============================] - 0s 1ms/step - loss: 2.2112e-04 - val_loss: 1.5874e-04\n",
      "Epoch 23/30\n",
      "462/462 [==============================] - 1s 1ms/step - loss: 2.0528e-04 - val_loss: 1.6448e-04\n",
      "Epoch 24/30\n",
      "462/462 [==============================] - 1s 1ms/step - loss: 1.9713e-04 - val_loss: 2.5396e-04\n",
      "Epoch 25/30\n",
      "462/462 [==============================] - 0s 1ms/step - loss: 1.8974e-04 - val_loss: 1.3606e-04\n",
      "Epoch 26/30\n",
      "462/462 [==============================] - 1s 1ms/step - loss: 2.3206e-04 - val_loss: 1.8229e-04\n",
      "Epoch 27/30\n",
      "462/462 [==============================] - 1s 1ms/step - loss: 1.9885e-04 - val_loss: 1.8157e-04\n",
      "Epoch 28/30\n",
      "462/462 [==============================] - 1s 1ms/step - loss: 2.1620e-04 - val_loss: 1.5381e-04\n",
      "Epoch 29/30\n",
      "462/462 [==============================] - 1s 1ms/step - loss: 2.1079e-04 - val_loss: 2.8786e-04\n",
      "Epoch 30/30\n",
      "462/462 [==============================] - 0s 1ms/step - loss: 2.0938e-04 - val_loss: 2.3580e-04\n"
     ]
    },
    {
     "data": {
      "image/png": "[encoded data removed]",
      "text/plain": [
       "<Figure size 640x480 with 1 Axes>"
      ]
     },
     "metadata": {},
     "output_type": "display_data"
    }
   ],
   "source": [
    "# Try to load weights\n",
    "try:\n",
    "    model.load_weights('dam_rnn_weights.h5')\n",
    "    print(\"Loaded model weights from disk\")\n",
    "except:\n",
    "    print(\"No weights found, training model from scratch\")\n",
    "    # Fit the model\n",
    "    history = model.fit(trainX, trainY, epochs=30, batch_size=32,\n",
    "                    validation_split=0.1, verbose=1)\n",
    "    # Save model weights after training\n",
    "    model.save_weights('dam_rnn_weights.h5')\n",
    "\n",
    "    plt.plot(history.history['loss'], label='Training loss')\n",
    "    plt.plot(history.history['val_loss'], label='Validation loss')\n",
    "    plt.legend()\n",
    "    plt.show()"
   ]
  },
  {
   "cell_type": "code",
   "execution_count": 28,
   "metadata": {
    "colab": {
     "base_uri": "https://localhost:8080/",
     "height": 646
    },
    "executionInfo": {
     "elapsed": 1534,
     "status": "ok",
     "timestamp": 1713339971963,
     "user": {
      "displayName": "­이진서 / 직원 / 그린바이오과학기술연구원",
      "userId": "11108064377578484520"
     },
     "user_tz": -540
    },
    "id": "CBak2Gro47hq",
    "outputId": "f6c439aa-d4a9-45e4-dc70-0c63d9c26bf8"
   },
   "outputs": [
    {
     "name": "stdout",
     "output_type": "stream",
     "text": [
      "57/57 [==============================] - 0s 768us/step\n",
      "[[0.0035868]\n",
      " [0.0035868]\n",
      " [0.0035868]\n",
      " ...\n",
      " [0.0035868]\n",
      " [0.0035868]\n",
      " [0.0035868]]\n",
      "(1803,)\n"
     ]
    },
    {
     "data": {
      "image/png": "[encoded data removed]",
      "text/plain": [
       "<Figure size 1400x500 with 1 Axes>"
      ]
     },
     "metadata": {},
     "output_type": "display_data"
    }
   ],
   "source": [
    "prediction = model.predict(testX)\n",
    "print(prediction)\n",
    "\n",
    "y_pred = scaler_dam.inverse_transform(prediction)[:,0]\n",
    "\n",
    "testY_original = scaler_dam.inverse_transform(testY)[:,0]\n",
    "print(testY_original.shape)\n",
    "\n",
    "# plotting\n",
    "plt.figure(figsize=(14, 5))\n",
    "\n",
    "# plot original 'Open' prices\n",
    "plt.plot(dates, original_dam, color='green', label='Original Dam Flow')\n",
    "\n",
    "# plot actual vs predicted\n",
    "plt.plot(test_dates[seq_len:], testY_original, color='blue', label='Actual Dam Flow')\n",
    "plt.plot(test_dates[seq_len:], y_pred, color='red', linestyle='--', label='Predicted Dam Flow')\n",
    "plt.xlabel('Date')\n",
    "plt.ylabel('Dam Flow')\n",
    "plt.title('Original, Actual and Predicted Dam Flow')\n",
    "plt.legend()\n",
    "plt.show()"
   ]
  },
  {
   "cell_type": "code",
   "execution_count": 29,
   "metadata": {
    "colab": {
     "base_uri": "https://localhost:8080/"
    },
    "executionInfo": {
     "elapsed": 407,
     "status": "ok",
     "timestamp": 1713339889834,
     "user": {
      "displayName": "­이진서 / 직원 / 그린바이오과학기술연구원",
      "userId": "11108064377578484520"
     },
     "user_tz": -540
    },
    "id": "JIG3qOrGJqi0",
    "outputId": "c2838abc-e4cc-4adb-e5d7-e07c24c20b76"
   },
   "outputs": [
    {
     "name": "stdout",
     "output_type": "stream",
     "text": [
      "               0       0          0\n",
      "0     2019-01-24   9.100  26.562426\n",
      "1     2019-01-25   9.415  26.562426\n",
      "2     2019-01-26   3.257  26.562426\n",
      "3     2019-01-27   9.112  26.562426\n",
      "4     2019-01-28   3.273  26.562426\n",
      "...          ...     ...        ...\n",
      "1798  2023-12-27  30.518  26.562426\n",
      "1799  2023-12-28  25.873  26.562426\n",
      "1800  2023-12-29  21.186  26.562426\n",
      "1801  2023-12-30  20.887  26.562426\n",
      "1802  2023-12-31  29.183  26.562426\n",
      "\n",
      "[1803 rows x 3 columns]\n"
     ]
    }
   ],
   "source": [
    "testDates = []\n",
    "for day in test_dates[24:]:\n",
    "  testDates.append(day.strftime(\"%Y-%m-%d\"))\n",
    "\n",
    "testDates = pd.DataFrame(testDates)\n",
    "pred_y = pd.DataFrame(y_pred)\n",
    "original_y = pd.DataFrame(testY_original)\n",
    "\n",
    "rnn_include_dam = pd.concat([testDates, original_y, pred_y], axis = 1)\n",
    "print(rnn_include_dam)\n",
    "\n",
    "rnn_include_dam = pd.DataFrame(rnn_include_dam)\n",
    "rnn_include_dam.to_csv(\"./data/rnn_include_dam.csv\")"
   ]
  },
  {
   "cell_type": "code",
   "execution_count": 30,
   "metadata": {
    "colab": {
     "base_uri": "https://localhost:8080/"
    },
    "executionInfo": {
     "elapsed": 585,
     "status": "ok",
     "timestamp": 1713339934083,
     "user": {
      "displayName": "­이진서 / 직원 / 그린바이오과학기술연구원",
      "userId": "11108064377578484520"
     },
     "user_tz": -540
    },
    "id": "fIpytxa6a4k5",
    "outputId": "51018bfc-f7ed-4011-dc2d-73e6a8dad381"
   },
   "outputs": [
    {
     "name": "stdout",
     "output_type": "stream",
     "text": [
      "[0.00044561 0.         0.         0.         0.         0.        ]\n",
      "               0       0    1    2    3    4    5       0          0\n",
      "0     2019-01-24   3.300  0.0  0.0  0.0  0.0  0.0   9.100  26.562426\n",
      "1     2019-01-25   9.100  0.0  0.0  0.0  0.0  0.0   9.415  26.562426\n",
      "2     2019-01-26   9.415  0.0  0.0  0.0  0.0  0.0   3.257  26.562426\n",
      "3     2019-01-27   3.257  0.0  0.0  0.0  0.0  0.0   9.112  26.562426\n",
      "4     2019-01-28   9.112  0.0  0.0  0.0  0.0  0.0   3.273  26.562426\n",
      "...          ...     ...  ...  ...  ...  ...  ...     ...        ...\n",
      "1798  2023-12-27  25.785  0.0  0.0  0.0  0.0  0.0  30.518  26.562426\n",
      "1799  2023-12-28  30.518  0.0  0.0  0.0  0.0  0.0  25.873  26.562426\n",
      "1800  2023-12-29  25.873  0.0  0.0  0.0  0.0  0.0  21.186  26.562426\n",
      "1801  2023-12-30  21.186  0.0  0.0  0.0  0.0  0.0  20.887  26.562426\n",
      "1802  2023-12-31  20.887  0.7  2.3  9.9  6.8  8.5  29.183  26.562426\n",
      "\n",
      "[1803 rows x 9 columns]\n"
     ]
    }
   ],
   "source": [
    "testX_last = []\n",
    "\n",
    "for x in testX:\n",
    "  testX_last.append(x[-1])\n",
    "\n",
    "print(testX_last[0])\n",
    "\n",
    "testX_last = scaler.inverse_transform(testX_last)\n",
    "testX_last = pd.DataFrame(testX_last)\n",
    "\n",
    "rnn_include_x = pd.concat([testDates, testX_last, original_y, pred_y], axis = 1)\n",
    "rnn_include_x.to_csv(\"./data/rnn_include_x.csv\")\n",
    "\n",
    "print(rnn_include_x)"
   ]
  },
  {
   "cell_type": "code",
   "execution_count": 31,
   "metadata": {
    "colab": {
     "base_uri": "https://localhost:8080/",
     "height": 481
    },
    "executionInfo": {
     "elapsed": 1013,
     "status": "ok",
     "timestamp": 1713339976375,
     "user": {
      "displayName": "­이진서 / 직원 / 그린바이오과학기술연구원",
      "userId": "11108064377578484520"
     },
     "user_tz": -540
    },
    "id": "fXGQtK4aoApN",
    "outputId": "4407d8cd-14b8-4858-c00f-2b834dcf90a0"
   },
   "outputs": [
    {
     "data": {
      "image/png": "[encoded data removed]",
      "text/plain": [
       "<Figure size 1400x500 with 1 Axes>"
      ]
     },
     "metadata": {},
     "output_type": "display_data"
    }
   ],
   "source": [
    "# Calculate the start and end indices for the zoomed plot\n",
    "zoom_start = len(test_dates) - 365*4\n",
    "zoom_end = len(test_dates)\n",
    "\n",
    "# Create the zoomed plot\n",
    "plt.figure(figsize=(14, 5))\n",
    "\n",
    "# Adjust the start index for the testY_original and y_pred arrays\n",
    "adjusted_start = zoom_start - seq_len\n",
    "\n",
    "plt.plot(test_dates[zoom_start:zoom_end],\n",
    "         testY_original[adjusted_start:zoom_end - zoom_start + adjusted_start],\n",
    "         color='blue',\n",
    "         label='Actual Dam Flow')\n",
    "\n",
    "plt.plot(test_dates[zoom_start:zoom_end],\n",
    "         y_pred[adjusted_start:zoom_end - zoom_start + adjusted_start ],\n",
    "         color='red',\n",
    "         linestyle='--',\n",
    "         label='Predicted Dam Flow')\n",
    "\n",
    "plt.xlabel('Date')\n",
    "plt.ylabel('Dam Flow')\n",
    "plt.title('Zoomed In Actual vs Predicted Dam Flow')\n",
    "plt.legend()\n",
    "plt.show()"
   ]
  },
  {
   "cell_type": "code",
   "execution_count": 32,
   "metadata": {
    "colab": {
     "base_uri": "https://localhost:8080/",
     "height": 450
    },
    "executionInfo": {
     "elapsed": 1020,
     "status": "ok",
     "timestamp": 1713339991516,
     "user": {
      "displayName": "­이진서 / 직원 / 그린바이오과학기술연구원",
      "userId": "11108064377578484520"
     },
     "user_tz": -540
    },
    "id": "el4PPAciqI5b",
    "outputId": "b94fba16-cb5a-4534-cec3-83ea444850fc"
   },
   "outputs": [
    {
     "data": {
      "image/png": "[encoded data removed]",
      "text/plain": [
       "<Figure size 640x480 with 1 Axes>"
      ]
     },
     "metadata": {},
     "output_type": "display_data"
    }
   ],
   "source": [
    "# 일대일 그래프\n",
    "x = np.arange(0,max(max(testY_original), max(y_pred)))\n",
    "y = x\n",
    "plt.scatter(testY_original[:], y_pred[:], color = 'purple', alpha = 0.6)\n",
    "plt.plot(x,y, color = 'blue', alpha = 0.6, label = 'y = x')\n",
    "plt.xlabel('Actuals')\n",
    "plt.ylabel('Simulate')\n",
    "\n",
    "plt.legend()\n",
    "plt.show()"
   ]
  },
  {
   "cell_type": "code",
   "execution_count": 33,
   "metadata": {
    "colab": {
     "base_uri": "https://localhost:8080/"
    },
    "executionInfo": {
     "elapsed": 2,
     "status": "ok",
     "timestamp": 1713339992600,
     "user": {
      "displayName": "­이진서 / 직원 / 그린바이오과학기술연구원",
      "userId": "11108064377578484520"
     },
     "user_tz": -540
    },
    "id": "ntPIbgUHqIzJ",
    "outputId": "87031d79-3d32-49cf-9fd8-942d5c5d8cf3"
   },
   "outputs": [
    {
     "name": "stdout",
     "output_type": "stream",
     "text": [
      "RMSE : 110.28\n"
     ]
    }
   ],
   "source": [
    "#RMSE\n",
    "from sklearn.metrics import r2_score\n",
    "from sklearn.metrics import mean_squared_error\n",
    "\n",
    "rmse = np.sqrt(mean_squared_error(testY_original, y_pred))\n",
    "print('RMSE : %.2f' %(rmse))"
   ]
  },
  {
   "cell_type": "code",
   "execution_count": 34,
   "metadata": {
    "colab": {
     "base_uri": "https://localhost:8080/"
    },
    "executionInfo": {
     "elapsed": 472,
     "status": "ok",
     "timestamp": 1713339994383,
     "user": {
      "displayName": "­이진서 / 직원 / 그린바이오과학기술연구원",
      "userId": "11108064377578484520"
     },
     "user_tz": -540
    },
    "id": "XxZoV4xCqIvU",
    "outputId": "ca21017e-5e3e-4211-c4a2-8a583bcc1c6f"
   },
   "outputs": [
    {
     "name": "stdout",
     "output_type": "stream",
     "text": [
      "NSE : 0.693164\n"
     ]
    }
   ],
   "source": [
    "# NSE\n",
    "from numpy import mean\n",
    "num_sum1 = 0\n",
    "num_sum2 = 0\n",
    "num_avg = mean(testY_original[:])\n",
    "for i in range(len(testY_original)):\n",
    "  num1 = testY_original[i] - y_pred[i]\n",
    "  num_sum1 += num1**2\n",
    "  num2 = testY_original[i] - num_avg\n",
    "  num_sum2 += num2**2\n",
    "\n",
    "nse = 1 - (num_sum1 / num_sum2)\n",
    "print('NSE : %f' %nse)"
   ]
  },
  {
   "cell_type": "code",
   "execution_count": 35,
   "metadata": {
    "colab": {
     "base_uri": "https://localhost:8080/"
    },
    "executionInfo": {
     "elapsed": 2,
     "status": "ok",
     "timestamp": 1713339997660,
     "user": {
      "displayName": "­이진서 / 직원 / 그린바이오과학기술연구원",
      "userId": "11108064377578484520"
     },
     "user_tz": -540
    },
    "id": "NO2tKNhrqIoA",
    "outputId": "c102fd1f-8076-46ac-c613-f7219942e7bd"
   },
   "outputs": [
    {
     "name": "stdout",
     "output_type": "stream",
     "text": [
      "PBIAS : 7.616878\n"
     ]
    }
   ],
   "source": [
    "# PBIAS\n",
    "num_sum1 = 0\n",
    "for i in range(len(testY_original)):\n",
    "  num1 = testY_original[i] - y_pred[i]\n",
    "  num_sum1 += num1\n",
    "\n",
    "pbias = (num_sum1 / np.sum(testY_original[:])) * 100\n",
    "print('PBIAS : %f' %pbias)"
   ]
  },
  {
   "cell_type": "code",
   "execution_count": 36,
   "metadata": {
    "colab": {
     "base_uri": "https://localhost:8080/"
    },
    "executionInfo": {
     "elapsed": 306,
     "status": "ok",
     "timestamp": 1713340003734,
     "user": {
      "displayName": "­이진서 / 직원 / 그린바이오과학기술연구원",
      "userId": "11108064377578484520"
     },
     "user_tz": -540
    },
    "id": "k9y4Gv5I8SEY",
    "outputId": "683c118d-0a86-47da-a2ce-8a14dea0daba"
   },
   "outputs": [
    {
     "name": "stdout",
     "output_type": "stream",
     "text": [
      "R Square : 0.762546\n"
     ]
    }
   ],
   "source": [
    "#R^2\n",
    "import math\n",
    "\n",
    "num_sum1 = 0\n",
    "num_sum2 = 0\n",
    "num_sum3 = 0\n",
    "act_avg = mean(testY_original[:])\n",
    "pred_avg = mean(y_pred[:])\n",
    "for i in range(len(testY_original)):\n",
    "  num1 = (testY_original[i] - act_avg) * (y_pred[i] - pred_avg)\n",
    "  num_sum1 += num1\n",
    "  num2 = testY_original[i] - pred_avg\n",
    "  num_sum2 += num2**2\n",
    "  num3 = y_pred[i] - pred_avg\n",
    "  num_sum3 += num3**2\n",
    "\n",
    "r_square = (num_sum1 / (math.sqrt(num_sum2)* math.sqrt(num_sum3)))**2\n",
    "print('R Square : %f' %r_square)"
   ]
  },
  {
   "cell_type": "code",
   "execution_count": null,
   "metadata": {
    "id": "xdETpJ6LBbEm"
   },
   "outputs": [],
   "source": []
  }
 ],
 "metadata": {
  "colab": {
   "authorship_tag": "ABX9TyPWSQZfaFaZwr3vs1ZMzHUI",
   "provenance": []
  },
  "kernelspec": {
   "display_name": "Python 3 (ipykernel)",
   "language": "python",
   "name": "python3"
  },
  "language_info": {
   "codemirror_mode": {
    "name": "ipython",
    "version": 3
   },
   "file_extension": ".py",
   "mimetype": "text/x-python",
   "name": "python",
   "nbconvert_exporter": "python",
   "pygments_lexer": "ipython3",
   "version": "3.11.7"
  }
 },
 "nbformat": 4,
 "nbformat_minor": 4
}
