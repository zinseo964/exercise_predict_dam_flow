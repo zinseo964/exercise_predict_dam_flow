{
 "cells": [
  {
   "cell_type": "code",
   "execution_count": 44,
   "metadata": {
    "colab": {
     "base_uri": "https://localhost:8080/"
    },
    "executionInfo": {
     "elapsed": 29619,
     "status": "ok",
     "timestamp": 1713334374482,
     "user": {
      "displayName": "­이진서 / 직원 / 그린바이오과학기술연구원",
      "userId": "11108064377578484520"
     },
     "user_tz": -540
    },
    "id": "GQo1Ioqzm9dq",
    "outputId": "a2be94b5-d621-4ced-bf1d-4c1b886bc355"
   },
   "outputs": [],
   "source": [
    "\"\"\" LSTM prediction: stacked LSTM \"\"\"\n",
    "\n",
    "# import libraries\n",
    "import numpy as np\n",
    "import pandas as pd\n",
    "from tensorflow.keras.models import Sequential\n",
    "from tensorflow.keras.layers import LSTM, Dense\n",
    "from tensorflow.keras.optimizers import Adam\n",
    "from sklearn.preprocessing import StandardScaler, MinMaxScaler\n",
    "import matplotlib.pyplot as plt"
   ]
  },
  {
   "cell_type": "code",
   "execution_count": 45,
   "metadata": {
    "id": "NHfpFZhV1KrZ"
   },
   "outputs": [],
   "source": [
    "rain_data = pd.read_csv('rain_day.csv', encoding='utf-8')\n",
    "dam_data = pd.read_csv('dam_edit.csv', encoding='utf-8')"
   ]
  },
  {
   "cell_type": "code",
   "execution_count": 46,
   "metadata": {
    "id": "ZOSc9aW_NTX_"
   },
   "outputs": [],
   "source": [
    "data = []"
   ]
  },
  {
   "cell_type": "code",
   "execution_count": 47,
   "metadata": {
    "id": "cdLeO4e24q26"
   },
   "outputs": [],
   "source": [
    "data = pd.merge( dam_data,rain_data, on='date', how='inner')"
   ]
  },
  {
   "cell_type": "code",
   "execution_count": 48,
   "metadata": {
    "id": "_dHIpEd22O2E"
   },
   "outputs": [],
   "source": [
    "data = data.fillna(0)"
   ]
  },
  {
   "cell_type": "code",
   "execution_count": 49,
   "metadata": {
    "colab": {
     "base_uri": "https://localhost:8080/"
    },
    "executionInfo": {
     "elapsed": 7,
     "status": "ok",
     "timestamp": 1713334391357,
     "user": {
      "displayName": "­이진서 / 직원 / 그린바이오과학기술연구원",
      "userId": "11108064377578484520"
     },
     "user_tz": -540
    },
    "id": "8LCkdpxW4q0W",
    "outputId": "363dddcb-c6d8-4236-9d58-02bc0df32c7b"
   },
   "outputs": [
    {
     "name": "stdout",
     "output_type": "stream",
     "text": [
      "       Unnamed: 0        date  dam_t-1    90  100  101  211  212\n",
      "0               0  1974-01-01    0.000   0.0  0.0  0.0  0.0  0.0\n",
      "1               1  1974-01-02   10.000   0.0  0.0  0.0  0.0  0.0\n",
      "2               2  1974-01-03    9.000   0.0  0.0  0.0  0.0  0.0\n",
      "3               3  1974-01-04    4.800   0.0  0.0  0.0  0.0  0.0\n",
      "4               4  1974-01-05    6.100   0.0  0.0  0.0  0.0  0.0\n",
      "...           ...         ...      ...   ...  ...  ...  ...  ...\n",
      "18257       18257  2023-12-27   30.518   0.0  0.0  0.0  0.0  0.0\n",
      "18258       18258  2023-12-28   25.873   0.0  0.0  0.0  0.0  0.0\n",
      "18259       18259  2023-12-29   21.186   0.0  0.0  0.0  0.0  0.0\n",
      "18260       18260  2023-12-30   20.887   0.7  2.3  9.9  6.8  8.5\n",
      "18261       18261  2023-12-31   29.183  26.8  6.0  5.3  3.1  4.9\n",
      "\n",
      "[18262 rows x 8 columns]\n"
     ]
    }
   ],
   "source": [
    "print(data)"
   ]
  },
  {
   "cell_type": "code",
   "execution_count": 50,
   "metadata": {
    "id": "L3HZ4W2QucGW"
   },
   "outputs": [],
   "source": [
    "compare_data = data"
   ]
  },
  {
   "cell_type": "code",
   "execution_count": 51,
   "metadata": {
    "colab": {
     "base_uri": "https://localhost:8080/"
    },
    "executionInfo": {
     "elapsed": 6,
     "status": "ok",
     "timestamp": 1713334391357,
     "user": {
      "displayName": "­이진서 / 직원 / 그린바이오과학기술연구원",
      "userId": "11108064377578484520"
     },
     "user_tz": -540
    },
    "id": "KZQFqaNs1Ko9",
    "outputId": "bb593230-681f-455c-a1a7-c391c3ff6fa1"
   },
   "outputs": [
    {
     "name": "stdout",
     "output_type": "stream",
     "text": [
      "       Unnamed: 0        date  dam_t-1\n",
      "0               0  1974-01-01    0.000\n",
      "1               1  1974-01-02   10.000\n",
      "2               2  1974-01-03    9.000\n",
      "3               3  1974-01-04    4.800\n",
      "4               4  1974-01-05    6.100\n",
      "...           ...         ...      ...\n",
      "18257       18257  2023-12-27   30.518\n",
      "18258       18258  2023-12-28   25.873\n",
      "18259       18259  2023-12-29   21.186\n",
      "18260       18260  2023-12-30   20.887\n",
      "18261       18261  2023-12-31   29.183\n",
      "\n",
      "[18262 rows x 3 columns]\n"
     ]
    }
   ],
   "source": [
    "print(dam_data)"
   ]
  },
  {
   "cell_type": "code",
   "execution_count": 52,
   "metadata": {
    "id": "pqbh4uMo27f3"
   },
   "outputs": [],
   "source": [
    "dam_data = dam_data.drop('Unnamed: 0', axis = 1)"
   ]
  },
  {
   "cell_type": "code",
   "execution_count": 53,
   "metadata": {
    "id": "xknhG7G-xHMs"
   },
   "outputs": [],
   "source": [
    "dam = dam_data.drop('date', axis= 1)"
   ]
  },
  {
   "cell_type": "code",
   "execution_count": 54,
   "metadata": {
    "colab": {
     "base_uri": "https://localhost:8080/"
    },
    "executionInfo": {
     "elapsed": 5,
     "status": "ok",
     "timestamp": 1713334391357,
     "user": {
      "displayName": "­이진서 / 직원 / 그린바이오과학기술연구원",
      "userId": "11108064377578484520"
     },
     "user_tz": -540
    },
    "id": "wd50aIWU1Kml",
    "outputId": "c8a5dacf-2dcc-4b04-8d5e-ca86fd6bd25a"
   },
   "outputs": [
    {
     "name": "stdout",
     "output_type": "stream",
     "text": [
      "             date    90  100  101  211  212\n",
      "0      1974-01-01   0.0  0.0  0.0  0.0  0.0\n",
      "1      1974-01-02   0.0  0.0  0.0  0.0  0.0\n",
      "2      1974-01-03   0.0  0.0  0.0  0.0  0.0\n",
      "3      1974-01-04   0.0  0.0  0.0  0.0  0.0\n",
      "4      1974-01-05   0.0  0.0  0.0  0.0  0.0\n",
      "...           ...   ...  ...  ...  ...  ...\n",
      "18257  2023-12-27   0.0  0.0  0.0  0.0  0.0\n",
      "18258  2023-12-28   0.0  0.0  0.0  0.0  0.0\n",
      "18259  2023-12-29   0.0  0.0  0.0  0.0  0.0\n",
      "18260  2023-12-30   0.7  2.3  9.9  6.8  8.5\n",
      "18261  2023-12-31  26.8  6.0  5.3  3.1  4.9\n",
      "\n",
      "[18262 rows x 6 columns]\n"
     ]
    }
   ],
   "source": [
    "print(rain_data)"
   ]
  },
  {
   "cell_type": "code",
   "execution_count": null,
   "metadata": {
    "id": "bXv8dcE91KhZ"
   },
   "outputs": [],
   "source": []
  },
  {
   "cell_type": "code",
   "execution_count": 55,
   "metadata": {
    "id": "36Yl3EaL1KfB"
   },
   "outputs": [],
   "source": [
    "original_dam = data['dam_t-1']"
   ]
  },
  {
   "cell_type": "code",
   "execution_count": 56,
   "metadata": {
    "colab": {
     "base_uri": "https://localhost:8080/"
    },
    "executionInfo": {
     "elapsed": 5,
     "status": "ok",
     "timestamp": 1713334391358,
     "user": {
      "displayName": "­이진서 / 직원 / 그린바이오과학기술연구원",
      "userId": "11108064377578484520"
     },
     "user_tz": -540
    },
    "id": "OomSV-1RnNNc",
    "outputId": "bfc1eebf-5962-424c-8eac-5e0be8b1db5c"
   },
   "outputs": [
    {
     "name": "stdout",
     "output_type": "stream",
     "text": [
      "0         0.000\n",
      "1        10.000\n",
      "2         9.000\n",
      "3         4.800\n",
      "4         6.100\n",
      "          ...  \n",
      "18257    30.518\n",
      "18258    25.873\n",
      "18259    21.186\n",
      "18260    20.887\n",
      "18261    29.183\n",
      "Name: dam_t-1, Length: 18262, dtype: float64\n"
     ]
    }
   ],
   "source": [
    "print(original_dam)"
   ]
  },
  {
   "cell_type": "code",
   "execution_count": 57,
   "metadata": {
    "id": "bT8kYSbbnl3d"
   },
   "outputs": [],
   "source": [
    "# separate dates for future plotting\n",
    "dates = pd.to_datetime(data['date'])"
   ]
  },
  {
   "cell_type": "code",
   "execution_count": 58,
   "metadata": {
    "colab": {
     "base_uri": "https://localhost:8080/"
    },
    "executionInfo": {
     "elapsed": 13,
     "status": "ok",
     "timestamp": 1713334391891,
     "user": {
      "displayName": "­이진서 / 직원 / 그린바이오과학기술연구원",
      "userId": "11108064377578484520"
     },
     "user_tz": -540
    },
    "id": "Y6ekq36NsaOh",
    "outputId": "4de61ba8-b023-4c17-bb8c-adc8c3182c7f"
   },
   "outputs": [
    {
     "name": "stdout",
     "output_type": "stream",
     "text": [
      "       Unnamed: 0        date  dam_t-1    90  100  101  211  212\n",
      "0               0  1974-01-01    0.000   0.0  0.0  0.0  0.0  0.0\n",
      "1               1  1974-01-02   10.000   0.0  0.0  0.0  0.0  0.0\n",
      "2               2  1974-01-03    9.000   0.0  0.0  0.0  0.0  0.0\n",
      "3               3  1974-01-04    4.800   0.0  0.0  0.0  0.0  0.0\n",
      "4               4  1974-01-05    6.100   0.0  0.0  0.0  0.0  0.0\n",
      "...           ...         ...      ...   ...  ...  ...  ...  ...\n",
      "18257       18257  2023-12-27   30.518   0.0  0.0  0.0  0.0  0.0\n",
      "18258       18258  2023-12-28   25.873   0.0  0.0  0.0  0.0  0.0\n",
      "18259       18259  2023-12-29   21.186   0.0  0.0  0.0  0.0  0.0\n",
      "18260       18260  2023-12-30   20.887   0.7  2.3  9.9  6.8  8.5\n",
      "18261       18261  2023-12-31   29.183  26.8  6.0  5.3  3.1  4.9\n",
      "\n",
      "[18262 rows x 8 columns]\n"
     ]
    }
   ],
   "source": [
    "print(data)"
   ]
  },
  {
   "cell_type": "code",
   "execution_count": null,
   "metadata": {
    "id": "Y4QTgucjbDwY"
   },
   "outputs": [],
   "source": []
  },
  {
   "cell_type": "code",
   "execution_count": 59,
   "metadata": {
    "id": "ogA_xIwDnnZH"
   },
   "outputs": [],
   "source": [
    "# variables for training\n",
    "cols = list(data)[2:8]"
   ]
  },
  {
   "cell_type": "code",
   "execution_count": 60,
   "metadata": {
    "colab": {
     "base_uri": "https://localhost:8080/"
    },
    "executionInfo": {
     "elapsed": 12,
     "status": "ok",
     "timestamp": 1713334391891,
     "user": {
      "displayName": "­이진서 / 직원 / 그린바이오과학기술연구원",
      "userId": "11108064377578484520"
     },
     "user_tz": -540
    },
    "id": "UAxYrWfg_32w",
    "outputId": "f2042b4f-be52-44aa-f40e-3f1e720b899a"
   },
   "outputs": [
    {
     "name": "stdout",
     "output_type": "stream",
     "text": [
      "['dam_t-1', '90', '100', '101', '211', '212']\n"
     ]
    }
   ],
   "source": [
    "print(cols)"
   ]
  },
  {
   "cell_type": "code",
   "execution_count": 61,
   "metadata": {
    "colab": {
     "base_uri": "https://localhost:8080/"
    },
    "executionInfo": {
     "elapsed": 11,
     "status": "ok",
     "timestamp": 1713334391891,
     "user": {
      "displayName": "­이진서 / 직원 / 그린바이오과학기술연구원",
      "userId": "11108064377578484520"
     },
     "user_tz": -540
    },
    "id": "xaJBp2qSsaBu",
    "outputId": "180ff4c1-0d68-4179-bb7c-03f356e765cb"
   },
   "outputs": [
    {
     "name": "stdout",
     "output_type": "stream",
     "text": [
      "       Unnamed: 0        date  dam_t-1    90  100  101  211  212\n",
      "0               0  1974-01-01    0.000   0.0  0.0  0.0  0.0  0.0\n",
      "1               1  1974-01-02   10.000   0.0  0.0  0.0  0.0  0.0\n",
      "2               2  1974-01-03    9.000   0.0  0.0  0.0  0.0  0.0\n",
      "3               3  1974-01-04    4.800   0.0  0.0  0.0  0.0  0.0\n",
      "4               4  1974-01-05    6.100   0.0  0.0  0.0  0.0  0.0\n",
      "...           ...         ...      ...   ...  ...  ...  ...  ...\n",
      "18257       18257  2023-12-27   30.518   0.0  0.0  0.0  0.0  0.0\n",
      "18258       18258  2023-12-28   25.873   0.0  0.0  0.0  0.0  0.0\n",
      "18259       18259  2023-12-29   21.186   0.0  0.0  0.0  0.0  0.0\n",
      "18260       18260  2023-12-30   20.887   0.7  2.3  9.9  6.8  8.5\n",
      "18261       18261  2023-12-31   29.183  26.8  6.0  5.3  3.1  4.9\n",
      "\n",
      "[18262 rows x 8 columns]\n"
     ]
    }
   ],
   "source": [
    "print(data)"
   ]
  },
  {
   "cell_type": "code",
   "execution_count": 62,
   "metadata": {
    "id": "8Din6kzRnoen"
   },
   "outputs": [],
   "source": [
    "# new dataframe with only training data - 5 columns\n",
    "data = data[cols].astype(float)"
   ]
  },
  {
   "cell_type": "code",
   "execution_count": 63,
   "metadata": {
    "id": "HRrDFZ_Gnpko"
   },
   "outputs": [],
   "source": [
    "# normalize the dataset\n",
    "scaler = MinMaxScaler(feature_range = (0,1))\n",
    "dam_data_scaled = scaler.fit_transform(data)\n",
    "\n",
    "# dam_data_scaled = scaler.transform(data)"
   ]
  },
  {
   "cell_type": "code",
   "execution_count": 64,
   "metadata": {
    "id": "sC8fMiswut2i"
   },
   "outputs": [],
   "source": [
    "scaler_dam = MinMaxScaler(feature_range=(0,1))\n",
    "scaler_dam = scaler_dam.fit(dam)\n",
    "\n",
    "dam_scaled = scaler_dam.transform(dam)"
   ]
  },
  {
   "cell_type": "code",
   "execution_count": 65,
   "metadata": {
    "colab": {
     "base_uri": "https://localhost:8080/"
    },
    "executionInfo": {
     "elapsed": 6,
     "status": "ok",
     "timestamp": 1713334693090,
     "user": {
      "displayName": "­이진서 / 직원 / 그린바이오과학기술연구원",
      "userId": "11108064377578484520"
     },
     "user_tz": -540
    },
    "id": "oszHWO0UEAiO",
    "outputId": "6552909b-634d-47dc-ca8f-1c4a515d52ed"
   },
   "outputs": [
    {
     "name": "stdout",
     "output_type": "stream",
     "text": [
      "[[0.         0.         0.         0.         0.         0.        ]\n",
      " [0.00135033 0.         0.         0.         0.         0.        ]\n",
      " [0.0012153  0.         0.         0.         0.         0.        ]\n",
      " ...\n",
      " [0.00286081 0.         0.         0.         0.         0.        ]\n",
      " [0.00282043 0.00189856 0.00322807 0.03209076 0.02465555 0.0307971 ]\n",
      " [0.00394067 0.07268782 0.00842105 0.0171799  0.01124003 0.01775362]]\n"
     ]
    }
   ],
   "source": [
    "print(dam_data_scaled)"
   ]
  },
  {
   "cell_type": "code",
   "execution_count": 66,
   "metadata": {
    "colab": {
     "base_uri": "https://localhost:8080/"
    },
    "executionInfo": {
     "elapsed": 5,
     "status": "ok",
     "timestamp": 1713334694191,
     "user": {
      "displayName": "­이진서 / 직원 / 그린바이오과학기술연구원",
      "userId": "11108064377578484520"
     },
     "user_tz": -540
    },
    "id": "1xSw2podnqir",
    "outputId": "e564feab-f608-4332-ab30-79117e108bad"
   },
   "outputs": [
    {
     "name": "stdout",
     "output_type": "stream",
     "text": [
      "16435   2018-12-31\n",
      "16436   2019-01-01\n",
      "16437   2019-01-02\n",
      "16438   2019-01-03\n",
      "16439   2019-01-04\n",
      "Name: date, dtype: datetime64[ns]\n"
     ]
    }
   ],
   "source": [
    "# split to train data and test data\n",
    "n_train = int(0.9*dam_data_scaled.shape[0])\n",
    "train_data_scaled = dam_data_scaled[0: n_train]\n",
    "train_dates = dates[0: n_train]\n",
    "\n",
    "test_data_scaled = dam_data_scaled[n_train:]\n",
    "test_dates = dates[n_train:]\n",
    "print(test_dates.head(5))"
   ]
  },
  {
   "cell_type": "code",
   "execution_count": 67,
   "metadata": {
    "colab": {
     "base_uri": "https://localhost:8080/"
    },
    "executionInfo": {
     "elapsed": 1,
     "status": "ok",
     "timestamp": 1713334695220,
     "user": {
      "displayName": "­이진서 / 직원 / 그린바이오과학기술연구원",
      "userId": "11108064377578484520"
     },
     "user_tz": -540
    },
    "id": "ZUFo-ljhIzIm",
    "outputId": "2a149254-4532-4f4a-d060-83289212b84a"
   },
   "outputs": [
    {
     "name": "stdout",
     "output_type": "stream",
     "text": [
      "[[0.         0.         0.         0.         0.         0.        ]\n",
      " [0.00135033 0.         0.         0.         0.         0.        ]\n",
      " [0.0012153  0.         0.         0.         0.         0.        ]\n",
      " ...\n",
      " [0.00074538 0.         0.         0.         0.         0.        ]\n",
      " [0.00076483 0.         0.         0.         0.         0.        ]\n",
      " [0.00077576 0.         0.         0.         0.         0.        ]]\n"
     ]
    }
   ],
   "source": [
    "print(train_data_scaled)"
   ]
  },
  {
   "cell_type": "code",
   "execution_count": 68,
   "metadata": {
    "colab": {
     "base_uri": "https://localhost:8080/"
    },
    "executionInfo": {
     "elapsed": 272,
     "status": "ok",
     "timestamp": 1713339756100,
     "user": {
      "displayName": "­이진서 / 직원 / 그린바이오과학기술연구원",
      "userId": "11108064377578484520"
     },
     "user_tz": -540
    },
    "id": "iCOaHw2Cnsnz",
    "outputId": "d1285ee8-647c-4674-c8fa-c1c31a4b579f"
   },
   "outputs": [
    {
     "name": "stdout",
     "output_type": "stream",
     "text": [
      "[[0.         0.         0.         0.         0.         0.        ]\n",
      " [0.00135033 0.         0.         0.         0.         0.        ]\n",
      " [0.0012153  0.         0.         0.         0.         0.        ]\n",
      " [0.00064816 0.         0.         0.         0.         0.        ]\n",
      " [0.0008237  0.         0.         0.         0.         0.        ]\n",
      " [0.00078319 0.         0.         0.         0.         0.        ]\n",
      " [0.00117479 0.         0.         0.         0.         0.        ]\n",
      " [0.00126931 0.         0.00042105 0.         0.         0.        ]\n",
      " [0.00091822 0.00054245 0.00084211 0.         0.         0.        ]\n",
      " [0.0008372  0.         0.0005614  0.         0.         0.        ]\n",
      " [0.00047262 0.00027122 0.00084211 0.         0.         0.        ]\n",
      " [0.00068867 0.         0.         0.         0.         0.        ]\n",
      " [0.00060765 0.         0.         0.         0.         0.        ]\n",
      " [0.00087771 0.         0.         0.         0.         0.        ]\n",
      " [0.00086421 0.         0.         0.         0.         0.        ]\n",
      " [0.00120179 0.         0.         0.         0.         0.        ]\n",
      " [0.00075618 0.         0.         0.         0.         0.        ]\n",
      " [0.00071567 0.         0.         0.         0.         0.        ]\n",
      " [0.00071567 0.         0.00014035 0.         0.         0.        ]\n",
      " [0.00066166 0.         0.0002807  0.         0.         0.        ]\n",
      " [0.00059414 0.04963385 0.01642105 0.02593193 0.02465555 0.05833333]\n",
      " [0.00098574 0.         0.0002807  0.         0.         0.        ]\n",
      " [0.00105326 0.         0.         0.         0.         0.        ]\n",
      " [0.00140434 0.         0.         0.         0.         0.        ]]\n",
      "[0.00095873]\n"
     ]
    }
   ],
   "source": [
    "# data reformatting for LSTM\n",
    "pred_days = 1  # prediction period\n",
    "seq_len = 24   # sequence length = past days for future prediction.\n",
    "input_dim = 6  # input_dimension = ['dam', '90', '100', '101', '211', '212']\n",
    "\n",
    "trainX = []\n",
    "trainY = []\n",
    "testX = []\n",
    "testY = []\n",
    "\n",
    "for i in range(seq_len, n_train-pred_days +1):\n",
    "    trainX.append(train_data_scaled[i - seq_len:i, 0:train_data_scaled.shape[1]])\n",
    "    trainY.append(train_data_scaled[i + pred_days - 1:i + pred_days , 0])\n",
    "\n",
    "for i in range(seq_len, len(test_data_scaled)-pred_days +1):\n",
    "    testX.append(test_data_scaled[i - seq_len:i, 0:test_data_scaled.shape[1]])\n",
    "    testY.append(test_data_scaled[i + pred_days - 1:i + pred_days, 0])\n",
    "\n",
    "print(trainX[0])\n",
    "print(trainY[0])\n",
    "\n",
    "trainX, trainY = np.array(trainX), np.array(trainY)\n",
    "testX, testY = np.array(testX), np.array(testY)"
   ]
  },
  {
   "cell_type": "code",
   "execution_count": 69,
   "metadata": {
    "id": "6Kb_f1MEFlyQ"
   },
   "outputs": [],
   "source": [
    "# print(trainX[:5])\n",
    "# print(trainY[:5])"
   ]
  },
  {
   "cell_type": "code",
   "execution_count": 70,
   "metadata": {
    "colab": {
     "base_uri": "https://localhost:8080/"
    },
    "executionInfo": {
     "elapsed": 2,
     "status": "ok",
     "timestamp": 1713334696140,
     "user": {
      "displayName": "­이진서 / 직원 / 그린바이오과학기술연구원",
      "userId": "11108064377578484520"
     },
     "user_tz": -540
    },
    "id": "w6xCKBOanvvz",
    "outputId": "d1513b0b-6463-448f-ef5d-1bd41950b0aa"
   },
   "outputs": [
    {
     "name": "stdout",
     "output_type": "stream",
     "text": [
      "(16411, 24, 6) (16411, 1)\n",
      "(1803, 24, 6) (1803, 1)\n"
     ]
    }
   ],
   "source": [
    "print(trainX.shape, trainY.shape)\n",
    "print(testX.shape, testY.shape)"
   ]
  },
  {
   "cell_type": "code",
   "execution_count": 71,
   "metadata": {
    "colab": {
     "base_uri": "https://localhost:8080/"
    },
    "executionInfo": {
     "elapsed": 4,
     "status": "ok",
     "timestamp": 1713334698159,
     "user": {
      "displayName": "­이진서 / 직원 / 그린바이오과학기술연구원",
      "userId": "11108064377578484520"
     },
     "user_tz": -540
    },
    "id": "ABV11yxg_fPk",
    "outputId": "f3c07404-1b2b-4f41-b062-55d1e29a2206"
   },
   "outputs": [
    {
     "name": "stdout",
     "output_type": "stream",
     "text": [
      "       dam_t-1    90  100  101  211  212\n",
      "0        0.000   0.0  0.0  0.0  0.0  0.0\n",
      "1       10.000   0.0  0.0  0.0  0.0  0.0\n",
      "2        9.000   0.0  0.0  0.0  0.0  0.0\n",
      "3        4.800   0.0  0.0  0.0  0.0  0.0\n",
      "4        6.100   0.0  0.0  0.0  0.0  0.0\n",
      "...        ...   ...  ...  ...  ...  ...\n",
      "18257   30.518   0.0  0.0  0.0  0.0  0.0\n",
      "18258   25.873   0.0  0.0  0.0  0.0  0.0\n",
      "18259   21.186   0.0  0.0  0.0  0.0  0.0\n",
      "18260   20.887   0.7  2.3  9.9  6.8  8.5\n",
      "18261   29.183  26.8  6.0  5.3  3.1  4.9\n",
      "\n",
      "[18262 rows x 6 columns]\n"
     ]
    }
   ],
   "source": [
    "print(data)"
   ]
  },
  {
   "cell_type": "code",
   "execution_count": 72,
   "metadata": {
    "colab": {
     "base_uri": "https://localhost:8080/"
    },
    "executionInfo": {
     "elapsed": 1237,
     "status": "ok",
     "timestamp": 1713334737361,
     "user": {
      "displayName": "­이진서 / 직원 / 그린바이오과학기술연구원",
      "userId": "11108064377578484520"
     },
     "user_tz": -540
    },
    "id": "r0DxPNxbnwJ3",
    "outputId": "007b3da8-4c05-445a-8bdb-65bcccc5b322"
   },
   "outputs": [
    {
     "name": "stdout",
     "output_type": "stream",
     "text": [
      "Model: \"sequential_1\"\n",
      "_________________________________________________________________\n",
      " Layer (type)                Output Shape              Param #   \n",
      "=================================================================\n",
      " lstm_2 (LSTM)               (None, 24, 64)            18176     \n",
      "                                                                 \n",
      " lstm_3 (LSTM)               (None, 32)                12416     \n",
      "                                                                 \n",
      " dense_1 (Dense)             (None, 1)                 33        \n",
      "                                                                 \n",
      "=================================================================\n",
      "Total params: 30625 (119.63 KB)\n",
      "Trainable params: 30625 (119.63 KB)\n",
      "Non-trainable params: 0 (0.00 Byte)\n",
      "_________________________________________________________________\n"
     ]
    }
   ],
   "source": [
    "# LSTM model\n",
    "model = Sequential()\n",
    "model.add(LSTM(64, input_shape=(trainX.shape[1], trainX.shape[2]), # (seq length, input dimension)\n",
    "               return_sequences=True))\n",
    "model.add(LSTM(32, return_sequences=False))\n",
    "model.add(Dense(trainY.shape[1]))\n",
    "\n",
    "model.summary()"
   ]
  },
  {
   "cell_type": "code",
   "execution_count": 73,
   "metadata": {
    "id": "XBbmyaHmnxML"
   },
   "outputs": [],
   "source": [
    "# specify your learning rate\n",
    "learning_rate = 0.01\n",
    "# create an Adam optimizer with the specified learning rate\n",
    "optimizer = Adam(learning_rate=learning_rate)\n",
    "# compile your model using the custom optimizer\n",
    "model.compile(optimizer=optimizer, loss='mse')"
   ]
  },
  {
   "cell_type": "code",
   "execution_count": 74,
   "metadata": {
    "colab": {
     "base_uri": "https://localhost:8080/",
     "height": 1000
    },
    "executionInfo": {
     "elapsed": 266382,
     "status": "ok",
     "timestamp": 1713335003733,
     "user": {
      "displayName": "­이진서 / 직원 / 그린바이오과학기술연구원",
      "userId": "11108064377578484520"
     },
     "user_tz": -540
    },
    "id": "ftq3t9DnnyIw",
    "outputId": "2ac31703-8c1c-4b6b-f9fd-8f6300bef6fe"
   },
   "outputs": [
    {
     "name": "stdout",
     "output_type": "stream",
     "text": [
      "No weights found, training model from scratch\n",
      "Epoch 1/30\n",
      "WARNING:tensorflow:From C:\\Users\\wlstj\\AppData\\Local\\Programs\\Python\\Python311\\Lib\\site-packages\\keras\\src\\utils\\tf_utils.py:492: The name tf.ragged.RaggedTensorValue is deprecated. Please use tf.compat.v1.ragged.RaggedTensorValue instead.\n",
      "\n",
      "462/462 [==============================] - 8s 11ms/step - loss: 4.1337e-04 - val_loss: 1.1956e-04\n",
      "Epoch 2/30\n",
      "462/462 [==============================] - 5s 10ms/step - loss: 4.0754e-04 - val_loss: 1.1422e-04\n",
      "Epoch 3/30\n",
      "462/462 [==============================] - 5s 10ms/step - loss: 2.2800e-04 - val_loss: 1.3167e-04\n",
      "Epoch 4/30\n",
      "462/462 [==============================] - 5s 10ms/step - loss: 2.1450e-04 - val_loss: 1.1295e-04\n",
      "Epoch 5/30\n",
      "462/462 [==============================] - 4s 10ms/step - loss: 1.4753e-04 - val_loss: 9.4796e-05\n",
      "Epoch 6/30\n",
      "462/462 [==============================] - 4s 10ms/step - loss: 1.5348e-04 - val_loss: 7.7609e-05\n",
      "Epoch 7/30\n",
      "462/462 [==============================] - 4s 10ms/step - loss: 1.5153e-04 - val_loss: 1.7602e-04\n",
      "Epoch 8/30\n",
      "462/462 [==============================] - 4s 10ms/step - loss: 1.4134e-04 - val_loss: 8.3839e-05\n",
      "Epoch 9/30\n",
      "462/462 [==============================] - 5s 10ms/step - loss: 1.3912e-04 - val_loss: 6.1854e-05\n",
      "Epoch 10/30\n",
      "462/462 [==============================] - 4s 10ms/step - loss: 1.2032e-04 - val_loss: 7.5004e-05\n",
      "Epoch 11/30\n",
      "462/462 [==============================] - 4s 10ms/step - loss: 1.4203e-04 - val_loss: 1.1724e-04\n",
      "Epoch 12/30\n",
      "462/462 [==============================] - 4s 10ms/step - loss: 1.2826e-04 - val_loss: 8.5985e-05\n",
      "Epoch 13/30\n",
      "462/462 [==============================] - 5s 10ms/step - loss: 1.2468e-04 - val_loss: 1.0899e-04\n",
      "Epoch 14/30\n",
      "462/462 [==============================] - 4s 10ms/step - loss: 1.1852e-04 - val_loss: 3.6672e-04\n",
      "Epoch 15/30\n",
      "462/462 [==============================] - 5s 10ms/step - loss: 1.2798e-04 - val_loss: 6.3364e-05\n",
      "Epoch 16/30\n",
      "462/462 [==============================] - 5s 10ms/step - loss: 1.0502e-04 - val_loss: 6.2154e-05\n",
      "Epoch 17/30\n",
      "462/462 [==============================] - 4s 10ms/step - loss: 1.1103e-04 - val_loss: 8.2515e-05\n",
      "Epoch 18/30\n",
      "462/462 [==============================] - 4s 10ms/step - loss: 1.1799e-04 - val_loss: 6.0528e-05\n",
      "Epoch 19/30\n",
      "462/462 [==============================] - 4s 10ms/step - loss: 9.1106e-05 - val_loss: 7.6156e-05\n",
      "Epoch 20/30\n",
      "462/462 [==============================] - 5s 10ms/step - loss: 8.5424e-05 - val_loss: 7.0906e-05\n",
      "Epoch 21/30\n",
      "462/462 [==============================] - 5s 10ms/step - loss: 8.7211e-05 - val_loss: 5.7831e-05\n",
      "Epoch 22/30\n",
      "462/462 [==============================] - 5s 10ms/step - loss: 9.6388e-05 - val_loss: 7.9543e-05\n",
      "Epoch 23/30\n",
      "462/462 [==============================] - 4s 10ms/step - loss: 9.5451e-05 - val_loss: 9.0173e-05\n",
      "Epoch 24/30\n",
      "462/462 [==============================] - 4s 10ms/step - loss: 8.9035e-05 - val_loss: 7.3298e-05\n",
      "Epoch 25/30\n",
      "462/462 [==============================] - 4s 10ms/step - loss: 1.0225e-04 - val_loss: 6.2343e-05\n",
      "Epoch 26/30\n",
      "462/462 [==============================] - 5s 10ms/step - loss: 7.8782e-05 - val_loss: 7.5975e-05\n",
      "Epoch 27/30\n",
      "462/462 [==============================] - 5s 10ms/step - loss: 8.6064e-05 - val_loss: 1.1890e-04\n",
      "Epoch 28/30\n",
      "462/462 [==============================] - 4s 10ms/step - loss: 9.8757e-05 - val_loss: 1.0001e-04\n",
      "Epoch 29/30\n",
      "462/462 [==============================] - 4s 10ms/step - loss: 7.8887e-05 - val_loss: 5.4464e-05\n",
      "Epoch 30/30\n",
      "462/462 [==============================] - 4s 10ms/step - loss: 7.5587e-05 - val_loss: 6.8181e-05\n"
     ]
    },
    {
     "data": {
      "image/png": "[encoded data removed]",
      "text/plain": [
       "<Figure size 640x480 with 1 Axes>"
      ]
     },
     "metadata": {},
     "output_type": "display_data"
    }
   ],
   "source": [
    "# Try to load weights\n",
    "try:\n",
    "    model.load_weights('0dam_lstm_weights.h5')\n",
    "    print(\"Loaded model weights from disk\")\n",
    "except:\n",
    "    print(\"No weights found, training model from scratch\")\n",
    "    # Fit the model\n",
    "    history = model.fit(trainX, trainY, epochs=30, batch_size=32,\n",
    "                    validation_split=0.1, verbose=1)\n",
    "    # Save model weights after training\n",
    "    model.save_weights('dam_lstm_weights.h5')\n",
    "\n",
    "    plt.plot(history.history['loss'], label='Training loss')\n",
    "    plt.plot(history.history['val_loss'], label='Validation loss')\n",
    "    plt.legend()\n",
    "    plt.show()"
   ]
  },
  {
   "cell_type": "code",
   "execution_count": 75,
   "metadata": {
    "colab": {
     "base_uri": "https://localhost:8080/",
     "height": 542
    },
    "executionInfo": {
     "elapsed": 1661,
     "status": "ok",
     "timestamp": 1713335755298,
     "user": {
      "displayName": "­이진서 / 직원 / 그린바이오과학기술연구원",
      "userId": "11108064377578484520"
     },
     "user_tz": -540
    },
    "id": "WoP_IYSun8Vf",
    "outputId": "b7101132-c8d2-45eb-9396-3dc2ca4618ef"
   },
   "outputs": [
    {
     "name": "stdout",
     "output_type": "stream",
     "text": [
      "57/57 [==============================] - 1s 3ms/step\n",
      "(1803, 1) (1803, 1)\n",
      "(1803,)\n"
     ]
    },
    {
     "data": {
      "image/png": "[encoded data removed]",
      "text/plain": [
       "<Figure size 1400x500 with 1 Axes>"
      ]
     },
     "metadata": {},
     "output_type": "display_data"
    }
   ],
   "source": [
    "# prediction\n",
    "prediction = model.predict(testX)\n",
    "print(prediction.shape, testY.shape)\n",
    "\n",
    "# generate array filled with means for prediction\n",
    "# mean_values_pred = np.repeat(scaler.mean_[np.newaxis, :], prediction.shape[0], axis=0)\n",
    "\n",
    "# # substitute predictions into the first column\n",
    "# mean_values_pred[:, 0] = np.squeeze(prediction)\n",
    "\n",
    "# inverse transform\n",
    "y_pred = scaler_dam.inverse_transform(prediction)[:,0]\n",
    "\n",
    "# # generate array filled with means for testY\n",
    "# mean_values_testY = np.repeat(scaler.mean_[np.newaxis, :], testY.shape[0], axis=0)\n",
    "\n",
    "# # substitute testY into the first column\n",
    "# mean_values_testY[:, 0] = np.squeeze(testY)\n",
    "\n",
    "# inverse transform\n",
    "testY_original = scaler_dam.inverse_transform(testY)[:,0]\n",
    "print(testY_original.shape)\n",
    "\n",
    "# plotting\n",
    "plt.figure(figsize=(14, 5))\n",
    "\n",
    "# plot original 'Open' prices\n",
    "plt.plot(dates, original_dam, color='green', label='Original Dam Flow')\n",
    "\n",
    "# plot actual vs predicted\n",
    "plt.plot(test_dates[seq_len:], testY_original, color='blue', label='Actual Dam Flow')\n",
    "plt.plot(test_dates[seq_len:], y_pred, color='red', linestyle='--', label='Predicted Dam Flow')\n",
    "plt.xlabel('Date')\n",
    "plt.ylabel('Dam Flow')\n",
    "plt.title('Original, Actual and Predicted Dam Flow')\n",
    "plt.legend()\n",
    "plt.show()"
   ]
  },
  {
   "cell_type": "code",
   "execution_count": 76,
   "metadata": {
    "colab": {
     "base_uri": "https://localhost:8080/"
    },
    "executionInfo": {
     "elapsed": 410,
     "status": "ok",
     "timestamp": 1713335759860,
     "user": {
      "displayName": "­이진서 / 직원 / 그린바이오과학기술연구원",
      "userId": "11108064377578484520"
     },
     "user_tz": -540
    },
    "id": "T2wGEh7xEX_g",
    "outputId": "896f9db0-c091-4e18-b19a-0fff1d355bc6"
   },
   "outputs": [
    {
     "data": {
      "text/plain": [
       "16435   2018-12-31\n",
       "16436   2019-01-01\n",
       "16437   2019-01-02\n",
       "16438   2019-01-03\n",
       "16439   2019-01-04\n",
       "           ...    \n",
       "18257   2023-12-27\n",
       "18258   2023-12-28\n",
       "18259   2023-12-29\n",
       "18260   2023-12-30\n",
       "18261   2023-12-31\n",
       "Name: date, Length: 1827, dtype: datetime64[ns]"
      ]
     },
     "execution_count": 76,
     "metadata": {},
     "output_type": "execute_result"
    }
   ],
   "source": [
    "test_dates"
   ]
  },
  {
   "cell_type": "code",
   "execution_count": 77,
   "metadata": {
    "colab": {
     "base_uri": "https://localhost:8080/"
    },
    "executionInfo": {
     "elapsed": 370,
     "status": "ok",
     "timestamp": 1713335760807,
     "user": {
      "displayName": "­이진서 / 직원 / 그린바이오과학기술연구원",
      "userId": "11108064377578484520"
     },
     "user_tz": -540
    },
    "id": "3zvLqBTuDrSI",
    "outputId": "6ed19c6f-6c2a-4c43-9a2c-857c1fc80940"
   },
   "outputs": [
    {
     "name": "stdout",
     "output_type": "stream",
     "text": [
      "               0       0          0\n",
      "0     2019-01-24   9.100  -5.825594\n",
      "1     2019-01-25   9.415  -5.186932\n",
      "2     2019-01-26   3.257  -4.757801\n",
      "3     2019-01-27   9.112  -6.113420\n",
      "4     2019-01-28   3.273  -5.213003\n",
      "...          ...     ...        ...\n",
      "1798  2023-12-27  30.518  10.682133\n",
      "1799  2023-12-28  25.873   9.820863\n",
      "1800  2023-12-29  21.186   8.048498\n",
      "1801  2023-12-30  20.887   5.643569\n",
      "1802  2023-12-31  29.183   7.272144\n",
      "\n",
      "[1803 rows x 3 columns]\n"
     ]
    }
   ],
   "source": [
    "testDates = []\n",
    "for day in test_dates[24:]:\n",
    "  testDates.append(day.strftime(\"%Y-%m-%d\"))\n",
    "\n",
    "testDates = pd.DataFrame(testDates)\n",
    "pred_y = pd.DataFrame(y_pred)\n",
    "origin_y = pd.DataFrame(testY_original)\n",
    "\n",
    "lstm_include_dam = pd.concat([testDates, origin_y, pred_y], axis = 1)\n",
    "print(lstm_include_dam)\n",
    "\n",
    "lstm_include_dam = pd.DataFrame(lstm_include_dam)\n",
    "lstm_include_dam.to_csv(\"data/lstm_include_dam.csv\")"
   ]
  },
  {
   "cell_type": "code",
   "execution_count": 78,
   "metadata": {
    "colab": {
     "base_uri": "https://localhost:8080/"
    },
    "executionInfo": {
     "elapsed": 6,
     "status": "ok",
     "timestamp": 1713335760808,
     "user": {
      "displayName": "­이진서 / 직원 / 그린바이오과학기술연구원",
      "userId": "11108064377578484520"
     },
     "user_tz": -540
    },
    "id": "-5qlN7mbHZ6O",
    "outputId": "5ad628f0-2ec0-4c22-f728-7efa3f0740cf"
   },
   "outputs": [
    {
     "name": "stdout",
     "output_type": "stream",
     "text": [
      "[0.00044561 0.         0.         0.         0.         0.        ]\n",
      "           0    1    2    3    4    5\n",
      "0      3.300  0.0  0.0  0.0  0.0  0.0\n",
      "1      9.100  0.0  0.0  0.0  0.0  0.0\n",
      "2      9.415  0.0  0.0  0.0  0.0  0.0\n",
      "3      3.257  0.0  0.0  0.0  0.0  0.0\n",
      "4      9.112  0.0  0.0  0.0  0.0  0.0\n",
      "...      ...  ...  ...  ...  ...  ...\n",
      "1798  25.785  0.0  0.0  0.0  0.0  0.0\n",
      "1799  30.518  0.0  0.0  0.0  0.0  0.0\n",
      "1800  25.873  0.0  0.0  0.0  0.0  0.0\n",
      "1801  21.186  0.0  0.0  0.0  0.0  0.0\n",
      "1802  20.887  0.7  2.3  9.9  6.8  8.5\n",
      "\n",
      "[1803 rows x 6 columns]\n"
     ]
    }
   ],
   "source": [
    "testX_last = []\n",
    "\n",
    "for x in testX:\n",
    "  testX_last.append(x[-1])\n",
    "\n",
    "print(testX_last[0])\n",
    "\n",
    "testX_last = scaler.inverse_transform(testX_last)\n",
    "testX_last = pd.DataFrame(testX_last)\n",
    "\n",
    "print(testX_last)\n",
    "\n",
    "lstm_include_x = pd.concat([testDates, testX_last,origin_y,pred_y], axis = 1)\n",
    "lstm_include_x.to_csv(\"data/lstm_include_x.csv\")"
   ]
  },
  {
   "cell_type": "code",
   "execution_count": 79,
   "metadata": {
    "colab": {
     "base_uri": "https://localhost:8080/"
    },
    "executionInfo": {
     "elapsed": 4,
     "status": "ok",
     "timestamp": 1713335760808,
     "user": {
      "displayName": "­이진서 / 직원 / 그린바이오과학기술연구원",
      "userId": "11108064377578484520"
     },
     "user_tz": -540
    },
    "id": "5BGZubPbNSLM",
    "outputId": "82be9a31-c1c7-4538-fecb-5e087a2e7d86"
   },
   "outputs": [
    {
     "name": "stdout",
     "output_type": "stream",
     "text": [
      "               0       0    1    2    3    4    5       0          0\n",
      "0     2019-01-24   3.300  0.0  0.0  0.0  0.0  0.0   9.100  -5.825594\n",
      "1     2019-01-25   9.100  0.0  0.0  0.0  0.0  0.0   9.415  -5.186932\n",
      "2     2019-01-26   9.415  0.0  0.0  0.0  0.0  0.0   3.257  -4.757801\n",
      "3     2019-01-27   3.257  0.0  0.0  0.0  0.0  0.0   9.112  -6.113420\n",
      "4     2019-01-28   9.112  0.0  0.0  0.0  0.0  0.0   3.273  -5.213003\n",
      "...          ...     ...  ...  ...  ...  ...  ...     ...        ...\n",
      "1798  2023-12-27  25.785  0.0  0.0  0.0  0.0  0.0  30.518  10.682133\n",
      "1799  2023-12-28  30.518  0.0  0.0  0.0  0.0  0.0  25.873   9.820863\n",
      "1800  2023-12-29  25.873  0.0  0.0  0.0  0.0  0.0  21.186   8.048498\n",
      "1801  2023-12-30  21.186  0.0  0.0  0.0  0.0  0.0  20.887   5.643569\n",
      "1802  2023-12-31  20.887  0.7  2.3  9.9  6.8  8.5  29.183   7.272144\n",
      "\n",
      "[1803 rows x 9 columns]\n"
     ]
    }
   ],
   "source": [
    "print(lstm_include_x)"
   ]
  },
  {
   "cell_type": "code",
   "execution_count": 80,
   "metadata": {
    "id": "sUD6rcP8X3eN"
   },
   "outputs": [],
   "source": [
    "# original_data = pd.DataFrame(testY_original)\n",
    "# prediction_data = pd.DataFrame(y_pred)\n",
    "\n",
    "# print(original_data)\n",
    "# print(prediction_data)\n",
    "\n",
    "# result = pd.concat([original_data,prediction_data],axis=1)\n",
    "# result.to_csv(\"/content/drive/MyDrive/240410/result.csv\")"
   ]
  },
  {
   "cell_type": "code",
   "execution_count": null,
   "metadata": {
    "id": "ZRKa_2xAYhQ-"
   },
   "outputs": [],
   "source": []
  },
  {
   "cell_type": "code",
   "execution_count": null,
   "metadata": {
    "id": "DafNHljDGVgS"
   },
   "outputs": [],
   "source": []
  },
  {
   "cell_type": "code",
   "execution_count": 81,
   "metadata": {
    "colab": {
     "base_uri": "https://localhost:8080/",
     "height": 487
    },
    "executionInfo": {
     "elapsed": 657,
     "status": "ok",
     "timestamp": 1713335761860,
     "user": {
      "displayName": "­이진서 / 직원 / 그린바이오과학기술연구원",
      "userId": "11108064377578484520"
     },
     "user_tz": -540
    },
    "id": "fXGQtK4aoApN",
    "outputId": "184544fa-ffbb-4d62-de41-3900e318ef68"
   },
   "outputs": [
    {
     "data": {
      "image/png": "[encoded data removed]",
      "text/plain": [
       "<Figure size 1400x500 with 1 Axes>"
      ]
     },
     "metadata": {},
     "output_type": "display_data"
    }
   ],
   "source": [
    "# Calculate the start and end indices for the zoomed plot\n",
    "zoom_start = len(test_dates) - 365*4\n",
    "zoom_end = len(test_dates)\n",
    "\n",
    "# Create the zoomed plot\n",
    "plt.figure(figsize=(14, 5))\n",
    "\n",
    "# Adjust the start index for the testY_original and y_pred arrays\n",
    "adjusted_start = zoom_start - seq_len\n",
    "\n",
    "plt.plot(test_dates[zoom_start:zoom_end],\n",
    "         testY_original[adjusted_start:zoom_end - zoom_start + adjusted_start],\n",
    "         color='blue',\n",
    "         label='Actual Dam Flow')\n",
    "\n",
    "plt.plot(test_dates[zoom_start:zoom_end],\n",
    "         y_pred[adjusted_start:zoom_end - zoom_start + adjusted_start ],\n",
    "         color='red',\n",
    "         linestyle='--',\n",
    "         label='Predicted Dam Flow')\n",
    "\n",
    "plt.xlabel('Date')\n",
    "plt.ylabel('Dam Flow')\n",
    "plt.title('Zoomed In Actual vs Predicted Dam Flow')\n",
    "plt.legend()\n",
    "plt.show()"
   ]
  },
  {
   "cell_type": "code",
   "execution_count": 82,
   "metadata": {
    "colab": {
     "base_uri": "https://localhost:8080/",
     "height": 451
    },
    "executionInfo": {
     "elapsed": 461,
     "status": "ok",
     "timestamp": 1713335762318,
     "user": {
      "displayName": "­이진서 / 직원 / 그린바이오과학기술연구원",
      "userId": "11108064377578484520"
     },
     "user_tz": -540
    },
    "id": "el4PPAciqI5b",
    "outputId": "b6889d83-4707-4719-8e8b-847117f55e45"
   },
   "outputs": [
    {
     "data": {
      "image/png": "[encoded data removed]",
      "text/plain": [
       "<Figure size 640x480 with 1 Axes>"
      ]
     },
     "metadata": {},
     "output_type": "display_data"
    }
   ],
   "source": [
    "# 일대일 그래프\n",
    "x = np.arange(0,max(max(testY_original), max(y_pred)))\n",
    "y = x\n",
    "plt.scatter(testY_original[:], y_pred[:], color = 'purple', alpha = 0.6)\n",
    "plt.plot(x,y, color = 'blue', alpha = 0.6, label = 'y = x')\n",
    "plt.xlabel('Actuals')\n",
    "plt.ylabel('Simulate')\n",
    "\n",
    "plt.legend()\n",
    "plt.show()"
   ]
  },
  {
   "cell_type": "code",
   "execution_count": null,
   "metadata": {
    "id": "EA04WPeiWiGY"
   },
   "outputs": [],
   "source": []
  },
  {
   "cell_type": "code",
   "execution_count": 83,
   "metadata": {
    "colab": {
     "base_uri": "https://localhost:8080/"
    },
    "executionInfo": {
     "elapsed": 8,
     "status": "ok",
     "timestamp": 1713335762318,
     "user": {
      "displayName": "­이진서 / 직원 / 그린바이오과학기술연구원",
      "userId": "11108064377578484520"
     },
     "user_tz": -540
    },
    "id": "ntPIbgUHqIzJ",
    "outputId": "0a8a9f09-e468-4ed1-f17f-6d4baa8f691e"
   },
   "outputs": [
    {
     "name": "stdout",
     "output_type": "stream",
     "text": [
      "RMSE : 72.15\n"
     ]
    }
   ],
   "source": [
    "#RMSE\n",
    "from sklearn.metrics import r2_score\n",
    "from sklearn.metrics import mean_squared_error\n",
    "\n",
    "rmse = np.sqrt(mean_squared_error(testY_original, y_pred))\n",
    "print('RMSE : %.2f' %(rmse))"
   ]
  },
  {
   "cell_type": "code",
   "execution_count": 84,
   "metadata": {
    "colab": {
     "base_uri": "https://localhost:8080/"
    },
    "executionInfo": {
     "elapsed": 7,
     "status": "ok",
     "timestamp": 1713335762318,
     "user": {
      "displayName": "­이진서 / 직원 / 그린바이오과학기술연구원",
      "userId": "11108064377578484520"
     },
     "user_tz": -540
    },
    "id": "XxZoV4xCqIvU",
    "outputId": "f0b82cce-e686-477a-d8e7-76dc8673a664"
   },
   "outputs": [
    {
     "name": "stdout",
     "output_type": "stream",
     "text": [
      "NSE : 0.868683\n"
     ]
    }
   ],
   "source": [
    "# NSE\n",
    "from numpy import mean\n",
    "num_sum1 = 0\n",
    "num_sum2 = 0\n",
    "num_avg = mean(testY_original[:])\n",
    "for i in range(len(testY_original)):\n",
    "  num1 = testY_original[i] - y_pred[i]\n",
    "  num_sum1 += num1**2\n",
    "  num2 = testY_original[i] - num_avg\n",
    "  num_sum2 += num2**2\n",
    "\n",
    "nse = 1 - (num_sum1 / num_sum2)\n",
    "print('NSE : %f' %nse)"
   ]
  },
  {
   "cell_type": "code",
   "execution_count": 85,
   "metadata": {
    "colab": {
     "base_uri": "https://localhost:8080/"
    },
    "executionInfo": {
     "elapsed": 6,
     "status": "ok",
     "timestamp": 1713335762318,
     "user": {
      "displayName": "­이진서 / 직원 / 그린바이오과학기술연구원",
      "userId": "11108064377578484520"
     },
     "user_tz": -540
    },
    "id": "NO2tKNhrqIoA",
    "outputId": "a76193ad-5321-4085-a4ae-cce415aae72b"
   },
   "outputs": [
    {
     "name": "stdout",
     "output_type": "stream",
     "text": [
      "PBIAS : 8.746390\n"
     ]
    }
   ],
   "source": [
    "# PBIAS\n",
    "num_sum1 = 0\n",
    "for i in range(len(testY_original)):\n",
    "  num1 = testY_original[i] - y_pred[i]\n",
    "  num_sum1 += num1\n",
    "\n",
    "pbias = (num_sum1 / np.sum(testY_original[:])) * 100\n",
    "print('PBIAS : %f' %pbias)"
   ]
  },
  {
   "cell_type": "code",
   "execution_count": 86,
   "metadata": {
    "colab": {
     "base_uri": "https://localhost:8080/"
    },
    "executionInfo": {
     "elapsed": 5,
     "status": "ok",
     "timestamp": 1713335762594,
     "user": {
      "displayName": "­이진서 / 직원 / 그린바이오과학기술연구원",
      "userId": "11108064377578484520"
     },
     "user_tz": -540
    },
    "id": "k9y4Gv5I8SEY",
    "outputId": "3a3fd07e-ef48-4b79-f156-1ebcf218085d"
   },
   "outputs": [
    {
     "name": "stdout",
     "output_type": "stream",
     "text": [
      "R Square : 0.870861\n"
     ]
    }
   ],
   "source": [
    "#R^2\n",
    "import math\n",
    "\n",
    "num_sum1 = 0\n",
    "num_sum2 = 0\n",
    "num_sum3 = 0\n",
    "act_avg = mean(testY_original[:])\n",
    "pred_avg = mean(y_pred[:])\n",
    "for i in range(len(testY_original)):\n",
    "  num1 = (testY_original[i] - act_avg) * (y_pred[i] - pred_avg)\n",
    "  num_sum1 += num1\n",
    "  num2 = testY_original[i] - pred_avg\n",
    "  num_sum2 += num2**2\n",
    "  num3 = y_pred[i] - pred_avg\n",
    "  num_sum3 += num3**2\n",
    "\n",
    "r_square = (num_sum1 / (math.sqrt(num_sum2)* math.sqrt(num_sum3)))**2\n",
    "print('R Square : %f' %r_square)"
   ]
  },
  {
   "cell_type": "code",
   "execution_count": null,
   "metadata": {
    "id": "3EEMNpCZxPta"
   },
   "outputs": [],
   "source": []
  }
 ],
 "metadata": {
  "colab": {
   "authorship_tag": "ABX9TyM4J4OZD2W63z7YR17DPwVM",
   "provenance": []
  },
  "kernelspec": {
   "display_name": "Python 3 (ipykernel)",
   "language": "python",
   "name": "python3"
  },
  "language_info": {
   "codemirror_mode": {
    "name": "ipython",
    "version": 3
   },
   "file_extension": ".py",
   "mimetype": "text/x-python",
   "name": "python",
   "nbconvert_exporter": "python",
   "pygments_lexer": "ipython3",
   "version": "3.11.7"
  }
 },
 "nbformat": 4,
 "nbformat_minor": 4
}
